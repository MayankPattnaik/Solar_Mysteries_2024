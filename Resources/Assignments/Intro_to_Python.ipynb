{
  "cells": [
    {
      "cell_type": "markdown",
      "metadata": {
        "id": "5U355qyJNXNh"
      },
      "source": [
        "# Introduction to Python"
      ]
    },
    {
      "cell_type": "markdown",
      "metadata": {
        "id": "E7HZ8g6pNXNw"
      },
      "source": [
        "Python is one of the most widely used programming languages ([source](https://octoverse.github.com/#top-languages)), and for a reason. It is very easy to pick-up, extremely versatile (as you will see) and most importantly well supported.\n",
        "\n",
        "Our focus through these tutorials is not just to learn Python however. We are here to learn [Astro](https://cdn130.picsart.com/283094903006201.jpg?type=webp&to=min&r=640). So, each tutorial will introduce a new concept, important in scientific computing, along with an application in Astronomy and Astrophysics.\n",
        "\n",
        "Some more great resources:\n",
        "1. [The Python Wiki](https://wiki.python.org/moin/)\n",
        "2. [SciPy lecture notes](http://scipy-lectures.org/)\n",
        "3. [SciPy reference](https://docs.scipy.org/doc/scipy/reference/)\n",
        "4. [AstroPy Documentation](https://docs.astropy.org/en/stable/)"
      ]
    },
    {
      "cell_type": "markdown",
      "metadata": {
        "id": "HwChGwRnNXNz"
      },
      "source": [
        "**Another Note** (I like notes): If you feel, at any point that you don't understand something, take a moment, relax and Google! The internet is your best friend when it comes to programming, and becoming self sufficient in your coding requires you to know how to google. So, don't worry if things feel a bit new; with some practice and a bit of tinkering around (you can do that in this environment very easily!), you will soon be ready to rumble..."
      ]
    },
    {
      "cell_type": "markdown",
      "metadata": {
        "id": "7UinwbxiNXN0"
      },
      "source": [
        "### By the end of this tutorial, you will have been introduced to Python, and parsed a file to find how many moons each planet has!"
      ]
    },
    {
      "cell_type": "markdown",
      "metadata": {
        "id": "mpGxZ7DuNXN1"
      },
      "source": [
        "Our first task on Python?\n",
        "Hello World!<br>\n",
        "(Note the [escape character](http://python-ds.com/python-3-escape-sequences))"
      ]
    },
    {
      "cell_type": "code",
      "execution_count": null,
      "metadata": {
        "colab": {
          "base_uri": "https://localhost:8080/"
        },
        "id": "KqbZ24qlNXN2",
        "outputId": "dd500336-2bfc-4e7c-d347-6700ac58ba61"
      },
      "outputs": [
        {
          "output_type": "stream",
          "name": "stdout",
          "text": [
            "The first thing we shall do is say\n",
            "Hello World!\n"
          ]
        }
      ],
      "source": [
        "print(\"The first thing we shall do is say\\nHello World!\")"
      ]
    },
    {
      "cell_type": "markdown",
      "metadata": {
        "id": "mESLMBzONXN5"
      },
      "source": [
        "Print is a function (more on that later) that takes a string (that is the stuff enclosed in the double quotes) and displays it. <br>\n",
        "Of course, we can go quite crazy with just this"
      ]
    },
    {
      "cell_type": "code",
      "execution_count": null,
      "metadata": {
        "colab": {
          "base_uri": "https://localhost:8080/"
        },
        "id": "rR4tFndJNXN6",
        "outputId": "ee5ac41a-7408-4b2e-86b5-b5f880a0b990"
      },
      "outputs": [
        {
          "output_type": "stream",
          "name": "stdout",
          "text": [
            "Hello World\n",
            "\n",
            "Hello World\n",
            "\n",
            "Hello 'World'\n",
            "\n",
            "\"Hello\" World\n",
            "\n",
            "'Hello' \"World\" \n",
            "\n",
            "Hello\n",
            "World\n"
          ]
        }
      ],
      "source": [
        "print(\"Hello\",\"World\\n\") # Python already puts a newline after each print(...) by default (this can be changed)\n",
        "print('Hello World\\n')    # BTW, this is how you comment :P\n",
        "print(\"Hello 'World'\\n\")\n",
        "print('\"Hello\" World\\n')\n",
        "print(\"'Hello' \\\"World\\\" \\n\")\n",
        "print('''Hello\n",
        "World''')"
      ]
    },
    {
      "cell_type": "markdown",
      "metadata": {
        "id": "cr2RGRMoNXN7"
      },
      "source": [
        "With a bit of [string formatting](https://docs.python.org/3/library/string.html#format-string-syntax), you can make your print statements as customizable as you want."
      ]
    },
    {
      "cell_type": "code",
      "execution_count": null,
      "metadata": {
        "colab": {
          "base_uri": "https://localhost:8080/"
        },
        "id": "LAv6KIvKNXN8",
        "outputId": "e44611c9-4eee-4753-91c5-f3ab57ce3f4c"
      },
      "outputs": [
        {
          "output_type": "stream",
          "name": "stdout",
          "text": [
            "Hello, my name is The Astronomy Club of IIT Kanpur\n",
            "Hello, my name is The Astronomy Club of IIT Kanpur\n",
            "Hello, my name is The Astronomy Club of IIT Kanpur\n",
            "Hello, my name is The Astronomy Club of IIT Kanpur\n"
          ]
        }
      ],
      "source": [
        "name = \"The Astronomy Club of IIT Kanpur\"\n",
        "print(\"Hello, my name is %s\"% name)\n",
        "print(\"Hello, my name is {}\".format(name))\n",
        "print(f\"Hello, my name is {name}\") # Will only work in Python 3.6+\n",
        "print(\"Hello, my name is\", name)"
      ]
    },
    {
      "cell_type": "markdown",
      "metadata": {
        "id": "7jrnciLwNXN9"
      },
      "source": [
        "And in that cell, we went ahead of ourselves a bit. What was that first line?"
      ]
    },
    {
      "cell_type": "code",
      "execution_count": null,
      "metadata": {
        "id": "_xPIOrflNXN9"
      },
      "outputs": [],
      "source": [
        "name = \"The Astronomy Club of IIT Kanpur\""
      ]
    },
    {
      "cell_type": "markdown",
      "metadata": {
        "id": "5Uou7S5LNXN-"
      },
      "source": [
        "We are assigning a value (which is the string above) to a variable.<br>\n",
        "Of course, strings aren't all we can assign to variables. There are different data types in Python, which you can explore below:"
      ]
    },
    {
      "cell_type": "code",
      "execution_count": null,
      "metadata": {
        "id": "mF1ypBBRNXN-"
      },
      "outputs": [],
      "source": [
        "integer = 1\n",
        "floating_point = 3.14\n",
        "complex_number = 3 + 4j\n",
        "boolean_variable = True"
      ]
    },
    {
      "cell_type": "code",
      "execution_count": null,
      "metadata": {
        "colab": {
          "base_uri": "https://localhost:8080/"
        },
        "id": "ndDE1jrnNXN-",
        "outputId": "3d8cc6c3-3b39-4beb-bb5d-b9280b993b00"
      },
      "outputs": [
        {
          "output_type": "stream",
          "name": "stdout",
          "text": [
            "(3+4j)\n",
            "<class 'complex'>\n"
          ]
        }
      ],
      "source": [
        "complex_number = 3 + 4j\n",
        "print(complex_number) # Try to re-write this with .format() instead\n",
        "print(\"{}\".format(type(complex_number)))"
      ]
    },
    {
      "cell_type": "markdown",
      "metadata": {
        "id": "WXXCg52pNXN_"
      },
      "source": [
        "You can also use Python as a calculator!"
      ]
    },
    {
      "cell_type": "code",
      "execution_count": null,
      "metadata": {
        "colab": {
          "base_uri": "https://localhost:8080/"
        },
        "id": "47HcAOy6NXN_",
        "outputId": "651b4be0-3440-4057-e0d4-98ccdc536ef2"
      },
      "outputs": [
        {
          "output_type": "stream",
          "name": "stdout",
          "text": [
            "a+b = 5\n",
            "a-b = 1\n",
            "a*b = 6\n",
            "a/b = 1.5\n",
            "a//b = 1\n",
            "a//b = 1\n",
            "a**b = 9\n"
          ]
        }
      ],
      "source": [
        "a = 3 # Explore with different values of a and b. Try using a complex number!\n",
        "b = 2 # Try using a string!\n",
        "#print(\"a+b = {}\".format(a+b))\n",
        "print(\"a+b =\",a+b)\n",
        "print(\"a-b = {}\".format(a-b))\n",
        "print(\"a*b = {}\".format(a*b))\n",
        "print(\"a/b = {}\".format(a/b))\n",
        "print(\"a//b = {}\".format(a//b))\n",
        "print(\"a//b = {}\".format(a//b))\n",
        "print(\"a**b = {}\".format(a**b))"
      ]
    },
    {
      "cell_type": "markdown",
      "metadata": {
        "id": "dAOzD3sZNXOA"
      },
      "source": [
        "We have an idea of how to store a value now, and basic ways of manipulating it. However, what if we need to store many values?"
      ]
    },
    {
      "cell_type": "markdown",
      "metadata": {
        "id": "xHsRQYn4NXOA"
      },
      "source": [
        "#### Tuples ()\n",
        "Sequence of values (which can be of mixed types) which are immutable(can't change it), written within parantheses"
      ]
    },
    {
      "cell_type": "code",
      "execution_count": null,
      "metadata": {
        "id": "b9b3CeYsNXOA"
      },
      "outputs": [],
      "source": [
        "tuple1=('a','b','c','d','e','f','g','h',1,2,3,4,5,6,7,8,9,10)"
      ]
    },
    {
      "cell_type": "markdown",
      "metadata": {
        "id": "pNjJ9TaCNXOA"
      },
      "source": [
        "To access the elements, use the indices (starting from zero)"
      ]
    },
    {
      "cell_type": "code",
      "execution_count": null,
      "metadata": {
        "colab": {
          "base_uri": "https://localhost:8080/",
          "height": 36
        },
        "id": "RVE9OSXONXOB",
        "outputId": "7203b77a-7b3a-4773-a119-3d5e5ac03033"
      },
      "outputs": [
        {
          "output_type": "execute_result",
          "data": {
            "text/plain": [
              "'a'"
            ],
            "application/vnd.google.colaboratory.intrinsic+json": {
              "type": "string"
            }
          },
          "metadata": {},
          "execution_count": 10
        }
      ],
      "source": [
        "tuple1[0]"
      ]
    },
    {
      "cell_type": "markdown",
      "metadata": {
        "id": "P3HBDRAANXOB"
      },
      "source": [
        "A very useful trick is index slicing, where you can access a subset of the tuple. This works as follows:"
      ]
    },
    {
      "cell_type": "code",
      "execution_count": null,
      "metadata": {
        "colab": {
          "base_uri": "https://localhost:8080/"
        },
        "id": "XePwu59JNXOB",
        "outputId": "b314978d-ee96-45ab-dca3-9d12a7469d1a"
      },
      "outputs": [
        {
          "output_type": "execute_result",
          "data": {
            "text/plain": [
              "('e', 'f', 'g', 'h', 1)"
            ]
          },
          "metadata": {},
          "execution_count": 11
        }
      ],
      "source": [
        "tuple1[4:9] # [inclusive:exclusive]"
      ]
    },
    {
      "cell_type": "markdown",
      "metadata": {
        "id": "XQ4OnTyINXOC"
      },
      "source": [
        "The full syntax for index slicing is \\[inclusive_start:exclusive_end:step_size\\], so you can get something like"
      ]
    },
    {
      "cell_type": "code",
      "execution_count": null,
      "metadata": {
        "colab": {
          "base_uri": "https://localhost:8080/"
        },
        "id": "HC_n57q5NXOC",
        "outputId": "5e7b65eb-da02-4c50-b392-5a9c6eb77ba5"
      },
      "outputs": [
        {
          "output_type": "execute_result",
          "data": {
            "text/plain": [
              "('c', 'h', 5)"
            ]
          },
          "metadata": {},
          "execution_count": 12
        }
      ],
      "source": [
        "tuple1=('a','b','c','d','e','f','g','h',1,2,3,4,5,6,7,8,9,10)\n",
        "tuple1[2:15:5]"
      ]
    },
    {
      "cell_type": "markdown",
      "metadata": {
        "id": "sK81wyx8NXOC"
      },
      "source": [
        "If you leave inclusive_start or exclusive_end blank, then that is saying slice from the beginning, or till the end respectively"
      ]
    },
    {
      "cell_type": "code",
      "execution_count": null,
      "metadata": {
        "colab": {
          "base_uri": "https://localhost:8080/"
        },
        "id": "sGTsA76UNXOC",
        "outputId": "94a74061-94ce-4795-da18-013de4e105e2"
      },
      "outputs": [
        {
          "output_type": "execute_result",
          "data": {
            "text/plain": [
              "('a', 'c', 'e', 'g', 1, 3)"
            ]
          },
          "metadata": {},
          "execution_count": 13
        }
      ],
      "source": [
        "tuple1[:12:2]"
      ]
    },
    {
      "cell_type": "code",
      "execution_count": null,
      "metadata": {
        "colab": {
          "base_uri": "https://localhost:8080/"
        },
        "id": "lHa0C1bANXOD",
        "outputId": "e632de19-f00f-449f-dfca-22cbb39067cd"
      },
      "outputs": [
        {
          "output_type": "execute_result",
          "data": {
            "text/plain": [
              "('f', 1, 4, 7, 10)"
            ]
          },
          "metadata": {},
          "execution_count": 14
        }
      ],
      "source": [
        "tuple1[5::3]"
      ]
    },
    {
      "cell_type": "markdown",
      "metadata": {
        "id": "oESaY_AmNXOD"
      },
      "source": [
        "Count backwards using negative indices"
      ]
    },
    {
      "cell_type": "code",
      "execution_count": null,
      "metadata": {
        "colab": {
          "base_uri": "https://localhost:8080/"
        },
        "id": "vjs-NYwKNXOD",
        "outputId": "7ed411f3-9789-493a-c368-9ab4673b26c4"
      },
      "outputs": [
        {
          "output_type": "execute_result",
          "data": {
            "text/plain": [
              "9"
            ]
          },
          "metadata": {},
          "execution_count": 15
        }
      ],
      "source": [
        "tuple1[-2]"
      ]
    },
    {
      "cell_type": "markdown",
      "metadata": {
        "id": "h0tYRiJCNXOD"
      },
      "source": [
        "Index slicing works with negative indices too!"
      ]
    },
    {
      "cell_type": "markdown",
      "metadata": {
        "id": "fialQHaMNXOE"
      },
      "source": [
        "#### Lists []\n",
        "Lists are mutable. Otherwise, they have similar properties to a tuple"
      ]
    },
    {
      "cell_type": "code",
      "execution_count": null,
      "metadata": {
        "id": "4k5PohrjNXOE"
      },
      "outputs": [],
      "source": [
        "nested_list=[[1,2,3],['a','b','c'],['astro','cosmo','gravity']] # You can also have nested tuples!"
      ]
    },
    {
      "cell_type": "markdown",
      "metadata": {
        "id": "2D1EKR5BNXOE"
      },
      "source": [
        "Nested lists are essentially [lists within lists](https://en.wikipedia.org/wiki/Inception). Nested lists will feature a good deal in our tutorials later, so this is important.\n",
        "\n",
        "Nested lists (or tuples) have more than one index, which can be used as follows:"
      ]
    },
    {
      "cell_type": "code",
      "execution_count": null,
      "metadata": {
        "colab": {
          "base_uri": "https://localhost:8080/"
        },
        "id": "mDnSLLRoNXOE",
        "outputId": "2f02fdce-1f0b-43f9-e2b7-abf48af9c0b6"
      },
      "outputs": [
        {
          "output_type": "execute_result",
          "data": {
            "text/plain": [
              "[['astro', 'cosmo', 'gravity']]"
            ]
          },
          "metadata": {},
          "execution_count": 6
        }
      ],
      "source": [
        "nested_list=[[1,2,3],['a','b','c'],['astro','cosmo','gravity']] # You can also have nested tuples!\n",
        "nested_list[2::1] # Play around with this!"
      ]
    },
    {
      "cell_type": "markdown",
      "metadata": {
        "id": "pDjguwDYNXOF"
      },
      "source": [
        "With a list, you can change entries, append new ones, or delete some"
      ]
    },
    {
      "cell_type": "code",
      "execution_count": null,
      "metadata": {
        "colab": {
          "base_uri": "https://localhost:8080/"
        },
        "id": "qcmiVnDANXOF",
        "outputId": "f5c86796-688a-41b8-8cf1-8952113564f5"
      },
      "outputs": [
        {
          "name": "stdout",
          "output_type": "stream",
          "text": [
            "['astro', 3.26, 2, 3, 'cosmo']\n"
          ]
        }
      ],
      "source": [
        "my_list=['astro',1,2,3,'cosmo']\n",
        "my_list[1]=3.26\n",
        "print(my_list)"
      ]
    },
    {
      "cell_type": "code",
      "execution_count": null,
      "metadata": {
        "id": "DIT3V5dGG2cx"
      },
      "outputs": [],
      "source": []
    },
    {
      "cell_type": "code",
      "execution_count": null,
      "metadata": {
        "colab": {
          "base_uri": "https://localhost:8080/"
        },
        "id": "c49DJGd1NXOF",
        "outputId": "a73b9fcf-6270-4799-8c4b-fa08f5aeee92"
      },
      "outputs": [
        {
          "output_type": "stream",
          "name": "stdout",
          "text": [
            "['astro', 1, 2, 3, 'cosmo', ['gravity', 'relativity']]\n"
          ]
        }
      ],
      "source": [
        "my_list=['astro',1,2,3,'cosmo']\n",
        "my_list.append(['gravity','relativity']) # This will be important later!\n",
        "print(my_list)"
      ]
    },
    {
      "cell_type": "code",
      "execution_count": null,
      "metadata": {
        "colab": {
          "base_uri": "https://localhost:8080/"
        },
        "id": "4mBaFYYNNXOU",
        "outputId": "8f2f4384-796f-40c5-ed7a-faa86705626b"
      },
      "outputs": [
        {
          "output_type": "stream",
          "name": "stdout",
          "text": [
            "['astro']\n"
          ]
        }
      ],
      "source": [
        "my_list=['astro',1,2,3,'cosmo']\n",
        "del my_list[1:5]\n",
        "print(my_list)"
      ]
    },
    {
      "cell_type": "code",
      "execution_count": null,
      "metadata": {
        "colab": {
          "base_uri": "https://localhost:8080/"
        },
        "id": "YqjcFzaINXOV",
        "outputId": "3257abe9-5635-42b1-99e0-9eca288a8d95"
      },
      "outputs": [
        {
          "output_type": "stream",
          "name": "stdout",
          "text": [
            "['astro', 3, 3, 'cosmo']\n"
          ]
        }
      ],
      "source": [
        "my_list=['astro',3,1,3,'cosmo']\n",
        "my_list.remove(1)\n",
        "\n",
        "print(my_list)"
      ]
    },
    {
      "cell_type": "markdown",
      "metadata": {
        "id": "6snhi2YwNXOV"
      },
      "source": [
        "One more function, which works on any kind of collection data type (tuples, list, dictionaries ...) is `len`, which gives the length."
      ]
    },
    {
      "cell_type": "code",
      "execution_count": null,
      "metadata": {
        "id": "R_cU3fFNNXOV",
        "colab": {
          "base_uri": "https://localhost:8080/"
        },
        "outputId": "7b0c85e1-cbec-4637-992b-2289cfe75a5f"
      },
      "outputs": [
        {
          "output_type": "stream",
          "name": "stdout",
          "text": [
            "4\n"
          ]
        }
      ],
      "source": [
        "print(len(my_list)) # Note that the list inside the list is counted as one element."
      ]
    },
    {
      "cell_type": "markdown",
      "metadata": {
        "id": "9w22he23NXOW"
      },
      "source": [
        "There are a lot of operations on lists. One resource you can use to find out more is [this](https://www.geeksforgeeks.org/python-list/). Again, Google is your best friend!"
      ]
    },
    {
      "cell_type": "markdown",
      "metadata": {
        "id": "Uqmxm-UDNXOW"
      },
      "source": [
        "#### A note on Strings"
      ]
    },
    {
      "cell_type": "markdown",
      "metadata": {
        "id": "gCylMAojNXOW"
      },
      "source": [
        "We have seen strings before. They are, in a way, similar to tuples, where you can access each individual element (in this case the characters of the strings) using the indices; you can also use index slicing."
      ]
    },
    {
      "cell_type": "code",
      "execution_count": null,
      "metadata": {
        "id": "JRffkR_hNXOX"
      },
      "outputs": [],
      "source": [
        "my_string = \"The Astronomy Club of IITK\""
      ]
    },
    {
      "cell_type": "code",
      "execution_count": null,
      "metadata": {
        "id": "AzRC2NosNXOX",
        "outputId": "8d22d740-87d8-4751-be09-8cf8a0737207",
        "colab": {
          "base_uri": "https://localhost:8080/"
        }
      },
      "outputs": [
        {
          "output_type": "stream",
          "name": "stdout",
          "text": [
            "Atooy\n"
          ]
        }
      ],
      "source": [
        "my_string = \"The Astronomy Club of IITK\"\n",
        "# Try to get any substring that you want using index slicing\n",
        "print(my_string[4:14:2])"
      ]
    },
    {
      "cell_type": "markdown",
      "metadata": {
        "id": "q4iHXITHNXOX"
      },
      "source": [
        "There are also a few operations on strings, which we will list down below. You are not expected to memorize them. It takes time and experience in coding to be able to remember them, and even then you will still find yourself having to look up things. That is completely fine.\n",
        "\n",
        "You can find a whole list of these in the official Python documentation (https://docs.python.org/3.6/library/string.html)"
      ]
    },
    {
      "cell_type": "code",
      "execution_count": null,
      "metadata": {
        "id": "7MyvNsw1NXOX",
        "colab": {
          "base_uri": "https://localhost:8080/"
        },
        "outputId": "2050a4bd-4c10-49d8-f454-27943f1cec25"
      },
      "outputs": [
        {
          "output_type": "stream",
          "name": "stdout",
          "text": [
            "['The', 'Astronomy', 'Club', 'of', 'IITK']\n"
          ]
        }
      ],
      "source": [
        "my_string = \"The Astronomy Club of IITK\"\n",
        "print(my_string.split())"
      ]
    },
    {
      "cell_type": "code",
      "execution_count": null,
      "metadata": {
        "id": "YcHjoVDBNXOY",
        "colab": {
          "base_uri": "https://localhost:8080/"
        },
        "outputId": "366df838-cc6a-488e-d07a-18be57985b53"
      },
      "outputs": [
        {
          "output_type": "stream",
          "name": "stdout",
          "text": [
            "['        The Astr', 'n', 'my Club ', 'f IITK']\n"
          ]
        }
      ],
      "source": [
        "my_string = \"        The Astronomy Club of IITK\"\n",
        "print(my_string.split('o')) #Try putting in another character or a string and see how the output changes"
      ]
    },
    {
      "cell_type": "code",
      "execution_count": null,
      "metadata": {
        "id": "AJjCUUStNXOY"
      },
      "outputs": [],
      "source": [
        "string_with_spaces = \"   Why are there spaces here?   \" # Let's get rid of those spaces in 2 ways"
      ]
    },
    {
      "cell_type": "code",
      "execution_count": null,
      "metadata": {
        "id": "-j2ThQYDNXOY",
        "colab": {
          "base_uri": "https://localhost:8080/"
        },
        "outputId": "b4404d3c-0642-425d-fe19-006ece441b5d"
      },
      "outputs": [
        {
          "output_type": "stream",
          "name": "stdout",
          "text": [
            "['Why', 'are', 'there', 'spaces', 'here?']\n"
          ]
        }
      ],
      "source": [
        "string_with_spaces = \"   Why are there spaces here?   \"\n",
        "# Split using white space:\n",
        "list_of_words = string_with_spaces.split()\n",
        "print(list_of_words)"
      ]
    },
    {
      "cell_type": "code",
      "execution_count": null,
      "metadata": {
        "id": "VAqcjUzjNXOZ",
        "colab": {
          "base_uri": "https://localhost:8080/"
        },
        "outputId": "d04693eb-ed0b-4dbb-b20a-a394cc045226"
      },
      "outputs": [
        {
          "output_type": "stream",
          "name": "stdout",
          "text": [
            "   Why are there spaces here?   \n"
          ]
        }
      ],
      "source": [
        "string_with_spaces = \"   Why are there spaces here?   \"\n",
        "# Make a string, by joining the items of the list\n",
        "string_without_spaces = ''.join(string_with_spaces) # what happens if you use '&' instead of ' '?\n",
        "print(string_without_spaces)"
      ]
    },
    {
      "cell_type": "code",
      "execution_count": null,
      "metadata": {
        "id": "10HEOvtYNXOZ",
        "colab": {
          "base_uri": "https://localhost:8080/",
          "height": 200
        },
        "outputId": "baa2f129-1dd5-419e-8909-4b7c1adb6ead"
      },
      "outputs": [
        {
          "output_type": "error",
          "ename": "NameError",
          "evalue": "name 'string' is not defined",
          "traceback": [
            "\u001b[0;31m---------------------------------------------------------------------------\u001b[0m",
            "\u001b[0;31mNameError\u001b[0m                                 Traceback (most recent call last)",
            "\u001b[0;32m<ipython-input-4-a1c85eeb83da>\u001b[0m in \u001b[0;36m<cell line: 4>\u001b[0;34m()\u001b[0m\n\u001b[1;32m      2\u001b[0m \u001b[0;31m# or, you can just use another function\u001b[0m\u001b[0;34m\u001b[0m\u001b[0;34m\u001b[0m\u001b[0m\n\u001b[1;32m      3\u001b[0m \u001b[0mstring_with_spaces\u001b[0m\u001b[0;34m.\u001b[0m\u001b[0mstrip\u001b[0m\u001b[0;34m(\u001b[0m\u001b[0;34m)\u001b[0m \u001b[0;31m# What if you use something like string.split(<some_string>)? It will remove that from the beginning and ending!\u001b[0m\u001b[0;34m\u001b[0m\u001b[0;34m\u001b[0m\u001b[0m\n\u001b[0;32m----> 4\u001b[0;31m \u001b[0mstring\u001b[0m\u001b[0;34m.\u001b[0m\u001b[0msplit\u001b[0m\u001b[0;34m(\u001b[0m\u001b[0mstring_with_spaces\u001b[0m\u001b[0;34m)\u001b[0m\u001b[0;34m\u001b[0m\u001b[0;34m\u001b[0m\u001b[0m\n\u001b[0m",
            "\u001b[0;31mNameError\u001b[0m: name 'string' is not defined"
          ]
        }
      ],
      "source": [
        "string_with_spaces = \"   Why are there spaces here?   \"\n",
        "# or, you can just use another function\n",
        "string_with_spaces.strip() # What if you use something like string.split(<some_string>)? It will remove that from the beginning and ending!\n",
        "string.split(string_with_spaces)"
      ]
    },
    {
      "cell_type": "markdown",
      "metadata": {
        "id": "rHc2YfBINXOZ"
      },
      "source": [
        "#### Dictionaries {}\n",
        "Instead of indexing by strictly numbers from 0 to `len`-1, we can index a _value_ with any _key_ as long as the _key_ is immutable (can be a tuple)."
      ]
    },
    {
      "cell_type": "code",
      "execution_count": null,
      "metadata": {
        "id": "xZ-Mo8juNXOa"
      },
      "outputs": [],
      "source": [
        "my_dictionary = {'Phobos':'Mars', 'Phobos':'Jupiter', 'Titan':'Saturn', 'Titania':'Uranus', 'Triton':'Neptune'}"
      ]
    },
    {
      "cell_type": "code",
      "execution_count": null,
      "metadata": {
        "colab": {
          "base_uri": "https://localhost:8080/"
        },
        "id": "qgrLbs60NXOa",
        "outputId": "efa9e42e-fb4e-4d3f-8a4e-fd5c0380a9fa"
      },
      "outputs": [
        {
          "output_type": "stream",
          "name": "stdout",
          "text": [
            "The largest moon of {my_dictionary[moon]} is {moon}\n"
          ]
        }
      ],
      "source": [
        "moon = 'Phobos'\n",
        "print('The largest moon of {my_dictionary[moon]} is {moon}')"
      ]
    },
    {
      "cell_type": "markdown",
      "metadata": {
        "id": "xpTaXqqtNXOb"
      },
      "source": [
        "\n",
        "\n",
        "There are of course, a lot more to know about each of these. But this will be sufficient for this tutorial. With practice and experience, you will learn more and more about lists, tuples, dictionaries and sets(wait, what's that?)"
      ]
    },
    {
      "cell_type": "markdown",
      "metadata": {
        "id": "aVBt4cyyNXOb"
      },
      "source": [
        "### Conditionals in Python"
      ]
    },
    {
      "cell_type": "markdown",
      "metadata": {
        "id": "BC8KYBKdNXOb"
      },
      "source": [
        "Control flow statements like loops and conditionals have blocks indicated by indentation. Any number of whitespaces is syntactically correct as long as it is consistent within a block.\n",
        "\n",
        "The `if...elif...if` statement can be used to run different blocks based on truth values of boolean expressions.\n",
        "\n",
        "Wooo. Those were all certainly words. What this means is this:\n",
        "1. You can choose to run certain statements based on whether some condition is satisfied or not: conditionals\n",
        "2. You can run the same set of statements (perhaps with some changes) several times (this is called iteration): loops (imaginative names, I know)"
      ]
    },
    {
      "cell_type": "markdown",
      "metadata": {
        "id": "HCYpnwqrNXOb"
      },
      "source": [
        "Play around with these cells and see for yourself how this will work."
      ]
    },
    {
      "cell_type": "code",
      "execution_count": null,
      "metadata": {
        "colab": {
          "base_uri": "https://localhost:8080/"
        },
        "id": "YVkbIdRINXOc",
        "outputId": "37aa5ead-d8bf-443b-81f8-3581e0c9d5d2"
      },
      "outputs": [
        {
          "output_type": "stream",
          "name": "stdout",
          "text": [
            "i am in the else block\n",
            "77 i more than 5\n"
          ]
        }
      ],
      "source": [
        "a=77\n",
        "if a<5:\n",
        "    print(\"i am in the if block\")\n",
        "    print(a,\"is less than 5\")\n",
        "elif a==5:\n",
        "    print(\"i am in the elif block\")\n",
        "    print(a, \"is equal to 5\")\n",
        "else:\n",
        "    print(\"i am in the else block\")\n",
        "    print(a, \"i more than 5\")\n"
      ]
    },
    {
      "cell_type": "code",
      "execution_count": null,
      "metadata": {
        "id": "lTBMLFWiNXOc",
        "colab": {
          "base_uri": "https://localhost:8080/"
        },
        "outputId": "f3258842-49cb-4215-e764-5f88bb0ac212"
      },
      "outputs": [
        {
          "output_type": "stream",
          "name": "stdout",
          "text": [
            "b is between 7 and 9\n"
          ]
        }
      ],
      "source": [
        "b=8\n",
        "if  7 < b < 9:\n",
        "    print(\"b is between 7 and 9\")\n",
        "elif b < 7:\n",
        "    print(\"b is smaller than 7\")\n",
        "else:\n",
        "    print(\"b is greater than 9\")"
      ]
    },
    {
      "cell_type": "markdown",
      "metadata": {
        "id": "WUepbvKvNXOd"
      },
      "source": [
        "Logical operations `and`, `or`, and `not` can also be used"
      ]
    },
    {
      "cell_type": "code",
      "execution_count": null,
      "metadata": {
        "colab": {
          "base_uri": "https://localhost:8080/"
        },
        "id": "IxWhxHxKNXOd",
        "outputId": "d6efc387-1e86-45f3-ca57-81273860e7bb"
      },
      "outputs": [
        {
          "output_type": "stream",
          "name": "stdout",
          "text": [
            "True\n"
          ]
        }
      ],
      "source": [
        "a=True\n",
        "b=False\n",
        "print(a!=b)"
      ]
    },
    {
      "cell_type": "code",
      "execution_count": null,
      "metadata": {
        "id": "8sCjyWVfNXOd"
      },
      "outputs": [],
      "source": [
        "# Try to use a logical operation in an if..elif..else statement. Find if a given value c is less than 0,\n",
        "# greater than 10, or in between the two\n",
        "\n",
        "..."
      ]
    },
    {
      "cell_type": "markdown",
      "metadata": {
        "id": "CbNt0mFHNXOd"
      },
      "source": [
        "### Loops\n",
        "There are two types of loops: `for` and `while`.\n",
        "\n",
        "The usage is very straightforward, but there are nuances to both of these that we will explore in detail later."
      ]
    },
    {
      "cell_type": "code",
      "execution_count": null,
      "metadata": {
        "id": "nIYEtnGnNXOe",
        "colab": {
          "base_uri": "https://localhost:8080/"
        },
        "outputId": "ada2f913-9036-434a-cba8-d22f8baa84f4"
      },
      "outputs": [
        {
          "output_type": "stream",
          "name": "stdout",
          "text": [
            "1\n",
            "2\n",
            "3\n",
            "4\n"
          ]
        }
      ],
      "source": [
        "for i in [1,2,3,4]:\n",
        "    print(i)"
      ]
    },
    {
      "cell_type": "code",
      "execution_count": null,
      "metadata": {
        "colab": {
          "base_uri": "https://localhost:8080/"
        },
        "id": "UOyzpV07NXOe",
        "outputId": "8b53d8a3-0930-4011-e253-cd018e9282f0"
      },
      "outputs": [
        {
          "output_type": "stream",
          "name": "stdout",
          "text": [
            "0hi\n",
            "1hi\n",
            "2hi\n",
            "3hi\n",
            "4hi\n"
          ]
        }
      ],
      "source": [
        "for i in range(0,5,1): # range gives you a range of numbers! range(inclusive_start, exclusive_end, step). Seems familiar?\n",
        "    print(i , end='hi\\n') # Foreshadowing, you can change the default behaviour of print to add a newline."
      ]
    },
    {
      "cell_type": "code",
      "execution_count": null,
      "metadata": {
        "id": "oIfP3g6yNXOe",
        "colab": {
          "base_uri": "https://localhost:8080/"
        },
        "outputId": "1498c0fb-68ef-41ed-d51e-09c3e6fb556d"
      },
      "outputs": [
        {
          "output_type": "stream",
          "name": "stdout",
          "text": [
            "25 16 9 4 1 "
          ]
        }
      ],
      "source": [
        "my_iter=5\n",
        "while my_iter > 0:\n",
        "    print(my_iter**2, end=' ')\n",
        "    my_iter-=1"
      ]
    },
    {
      "cell_type": "markdown",
      "metadata": {
        "id": "AAHq7r2Gq07m"
      },
      "source": [
        "#### This Exercise uses Pandas as a Key Component. Check it here before proceeding : https://www.w3schools.com/python/pandas/default.asp"
      ]
    },
    {
      "cell_type": "code",
      "source": [],
      "metadata": {
        "id": "30th3H9Ib69E"
      },
      "execution_count": null,
      "outputs": []
    },
    {
      "cell_type": "markdown",
      "metadata": {
        "id": "TSSw_3ZBNXOf"
      },
      "source": [
        "### Parsing a file for data\n",
        "This is perhaps one of the more important parts in this tutorial, which will enable you to start working with actual data. In the file `Moons_and_planets.csv`, we can find the names of the moons of each planet as well as the planet they orbit (yes, we know we included Pluto. Cut it some slack!)\n",
        "\n",
        "The data has been taken from https://en.wikipedia.org/wiki/List_of_natural_satellites. This employs something called web scraping, which we will have a look at later."
      ]
    },
    {
      "cell_type": "code",
      "source": [
        "from google.colab import drive\n",
        "drive.mount('/content/drive')"
      ],
      "metadata": {
        "id": "jMNFPQvUaEkN",
        "colab": {
          "base_uri": "https://localhost:8080/"
        },
        "outputId": "587f88e9-0700-47ce-845a-07bf8d80de84"
      },
      "execution_count": null,
      "outputs": [
        {
          "output_type": "stream",
          "name": "stdout",
          "text": [
            "Drive already mounted at /content/drive; to attempt to forcibly remount, call drive.mount(\"/content/drive\", force_remount=True).\n"
          ]
        }
      ]
    },
    {
      "cell_type": "markdown",
      "metadata": {
        "id": "FkQ3MtXhNXOf"
      },
      "source": [
        "You are encouraged to play around with this set of code. Try removing some of the functions and seeing why they have been used (remove the `split('\\n')` in the next cell and see why it is necessary)"
      ]
    },
    {
      "cell_type": "code",
      "execution_count": null,
      "metadata": {
        "id": "eIs_f7kSNXOf",
        "outputId": "b27da90a-7ad6-4173-fc27-a2b7476637e2",
        "colab": {
          "base_uri": "https://localhost:8080/",
          "height": 228
        }
      },
      "outputs": [
        {
          "output_type": "error",
          "ename": "FileNotFoundError",
          "evalue": "[Errno 2] No such file or directory: 'Moons_and_Planets.csv'",
          "traceback": [
            "\u001b[0;31m---------------------------------------------------------------------------\u001b[0m",
            "\u001b[0;31mFileNotFoundError\u001b[0m                         Traceback (most recent call last)",
            "\u001b[0;32m<ipython-input-1-7f2be97242cb>\u001b[0m in \u001b[0;36m<cell line: 2>\u001b[0;34m()\u001b[0m\n\u001b[1;32m      1\u001b[0m \u001b[0;32mimport\u001b[0m \u001b[0mpandas\u001b[0m \u001b[0;32mas\u001b[0m \u001b[0mpd\u001b[0m\u001b[0;34m\u001b[0m\u001b[0;34m\u001b[0m\u001b[0m\n\u001b[0;32m----> 2\u001b[0;31m \u001b[0;32mwith\u001b[0m \u001b[0mopen\u001b[0m\u001b[0;34m(\u001b[0m\u001b[0;34m'Moons_and_Planets.csv'\u001b[0m\u001b[0;34m,\u001b[0m \u001b[0;34m'r'\u001b[0m\u001b[0;34m)\u001b[0m \u001b[0;32mas\u001b[0m \u001b[0mf\u001b[0m\u001b[0;34m:\u001b[0m\u001b[0;34m\u001b[0m\u001b[0;34m\u001b[0m\u001b[0m\n\u001b[0m\u001b[1;32m      3\u001b[0m     \u001b[0mlines\u001b[0m \u001b[0;34m=\u001b[0m \u001b[0mf\u001b[0m\u001b[0;34m.\u001b[0m\u001b[0mread\u001b[0m\u001b[0;34m(\u001b[0m\u001b[0;34m)\u001b[0m\u001b[0;34m.\u001b[0m\u001b[0msplit\u001b[0m\u001b[0;34m(\u001b[0m\u001b[0;34m'\\n'\u001b[0m\u001b[0;34m)\u001b[0m \u001b[0;31m# split each line\u001b[0m\u001b[0;34m\u001b[0m\u001b[0;34m\u001b[0m\u001b[0m\n\u001b[1;32m      4\u001b[0m     \u001b[0mprint\u001b[0m\u001b[0;34m(\u001b[0m\u001b[0mlines\u001b[0m\u001b[0;34m[\u001b[0m\u001b[0;34m:\u001b[0m\u001b[0;36m5\u001b[0m\u001b[0;34m]\u001b[0m\u001b[0;34m)\u001b[0m\u001b[0;34m\u001b[0m\u001b[0;34m\u001b[0m\u001b[0m\n\u001b[1;32m      5\u001b[0m     \u001b[0mdata_moons\u001b[0m \u001b[0;34m=\u001b[0m \u001b[0;34m[\u001b[0m\u001b[0;34m]\u001b[0m \u001b[0;31m# Define an empty list. We will append our values to this\u001b[0m\u001b[0;34m\u001b[0m\u001b[0;34m\u001b[0m\u001b[0m\n",
            "\u001b[0;31mFileNotFoundError\u001b[0m: [Errno 2] No such file or directory: 'Moons_and_Planets.csv'"
          ]
        }
      ],
      "source": [
        "import pandas as pd\n",
        "with open('Moons_and_Planets.csv', 'r') as f:\n",
        "    lines = f.read().split('\\n') # split each line\n",
        "    print(lines[:5])\n",
        "    data_moons = [] # Define an empty list. We will append our values to this\n",
        "for line in lines:\n",
        "    data_moons.append(line.split(',')) # split each element\n",
        "    data_moons[:5]"
      ]
    },
    {
      "cell_type": "code",
      "execution_count": null,
      "metadata": {
        "id": "cQPMnBrfNXOg",
        "colab": {
          "base_uri": "https://localhost:8080/",
          "height": 146
        },
        "outputId": "510a9984-810d-47c3-9912-1db440fb1512"
      },
      "outputs": [
        {
          "output_type": "error",
          "ename": "NameError",
          "evalue": "name 'lines' is not defined",
          "traceback": [
            "\u001b[0;31m---------------------------------------------------------------------------\u001b[0m",
            "\u001b[0;31mNameError\u001b[0m                                 Traceback (most recent call last)",
            "\u001b[0;32m<ipython-input-7-0271aef1129f>\u001b[0m in \u001b[0;36m<cell line: 1>\u001b[0;34m()\u001b[0m\n\u001b[0;32m----> 1\u001b[0;31m \u001b[0mprint\u001b[0m\u001b[0;34m(\u001b[0m\u001b[0mlines\u001b[0m\u001b[0;34m[\u001b[0m\u001b[0;34m:\u001b[0m\u001b[0;36m5\u001b[0m\u001b[0;34m]\u001b[0m\u001b[0;34m)\u001b[0m\u001b[0;34m\u001b[0m\u001b[0;34m\u001b[0m\u001b[0m\n\u001b[0m",
            "\u001b[0;31mNameError\u001b[0m: name 'lines' is not defined"
          ]
        }
      ],
      "source": [
        "print(lines[:5])"
      ]
    },
    {
      "cell_type": "code",
      "execution_count": null,
      "metadata": {
        "id": "kqOLgdUGNXOh",
        "outputId": "daf55ad5-03a6-49e6-922d-3c6e4b060f3c",
        "colab": {
          "base_uri": "https://localhost:8080/",
          "height": 182
        }
      },
      "outputs": [
        {
          "output_type": "error",
          "ename": "NameError",
          "evalue": "name 'lines' is not defined",
          "traceback": [
            "\u001b[0;31m---------------------------------------------------------------------------\u001b[0m",
            "\u001b[0;31mNameError\u001b[0m                                 Traceback (most recent call last)",
            "\u001b[0;32m<ipython-input-2-a9215d5de1d7>\u001b[0m in \u001b[0;36m<cell line: 2>\u001b[0;34m()\u001b[0m\n\u001b[1;32m      1\u001b[0m \u001b[0mdata_moons\u001b[0m \u001b[0;34m=\u001b[0m \u001b[0;34m[\u001b[0m\u001b[0;34m]\u001b[0m \u001b[0;31m# Define an empty list. We will append our values to this\u001b[0m\u001b[0;34m\u001b[0m\u001b[0;34m\u001b[0m\u001b[0m\n\u001b[0;32m----> 2\u001b[0;31m \u001b[0;32mfor\u001b[0m \u001b[0mline\u001b[0m \u001b[0;32min\u001b[0m \u001b[0mlines\u001b[0m\u001b[0;34m:\u001b[0m\u001b[0;34m\u001b[0m\u001b[0;34m\u001b[0m\u001b[0m\n\u001b[0m\u001b[1;32m      3\u001b[0m     \u001b[0mdata_moons\u001b[0m\u001b[0;34m.\u001b[0m\u001b[0mappend\u001b[0m\u001b[0;34m(\u001b[0m\u001b[0mline\u001b[0m\u001b[0;34m.\u001b[0m\u001b[0msplit\u001b[0m\u001b[0;34m(\u001b[0m\u001b[0;34m','\u001b[0m\u001b[0;34m)\u001b[0m\u001b[0;34m)\u001b[0m \u001b[0;31m# split each element\u001b[0m\u001b[0;34m\u001b[0m\u001b[0;34m\u001b[0m\u001b[0m\n",
            "\u001b[0;31mNameError\u001b[0m: name 'lines' is not defined"
          ]
        }
      ],
      "source": [
        "data_moons = [] # Define an empty list. We will append our values to this\n",
        "for line in lines:\n",
        "    data_moons.append(line.split(',')) # split each element"
      ]
    },
    {
      "cell_type": "code",
      "execution_count": null,
      "metadata": {
        "id": "eihlhAS8NXOh",
        "outputId": "2b32d877-96aa-42b8-87ad-68351b6ce091",
        "colab": {
          "base_uri": "https://localhost:8080/",
          "height": 146
        }
      },
      "outputs": [
        {
          "output_type": "error",
          "ename": "NameError",
          "evalue": "name 'data_moons' is not defined",
          "traceback": [
            "\u001b[0;31m---------------------------------------------------------------------------\u001b[0m",
            "\u001b[0;31mNameError\u001b[0m                                 Traceback (most recent call last)",
            "\u001b[0;32m<ipython-input-1-6fe3d4c49ba3>\u001b[0m in \u001b[0;36m<cell line: 1>\u001b[0;34m()\u001b[0m\n\u001b[0;32m----> 1\u001b[0;31m \u001b[0mdata_moons\u001b[0m\u001b[0;34m[\u001b[0m\u001b[0;34m:\u001b[0m\u001b[0;36m5\u001b[0m\u001b[0;34m]\u001b[0m\u001b[0;34m\u001b[0m\u001b[0;34m\u001b[0m\u001b[0m\n\u001b[0m",
            "\u001b[0;31mNameError\u001b[0m: name 'data_moons' is not defined"
          ]
        }
      ],
      "source": [
        "data_moons[:5]"
      ]
    },
    {
      "cell_type": "markdown",
      "metadata": {
        "id": "m3UhxR-JNXOh"
      },
      "source": [
        "As you can see, this is not perfect; the diameter of the moons has been appended as a `string`, instead of a `float`. <br>\n",
        "Fixing this is up to you! (*hint*: you can convert a string to a float using `float(<string>)`)\n",
        "\n",
        "You will have to use a loop to access each row (nested loops here), and use indexing to access the elements you want."
      ]
    },
    {
      "cell_type": "markdown",
      "metadata": {
        "id": "rNuAc8_ONXOi"
      },
      "source": [
        "### Your assignment...\n",
        "...should you choose to accept it, will be the following:\n",
        "1. Find the number of moons of each planet\n",
        "2. Order the moons (along with their planets) according to their sizes"
      ]
    },
    {
      "cell_type": "markdown",
      "metadata": {
        "id": "f7_P0g1wNXOi"
      },
      "source": [
        "Try to verify these from the Wikipedia link that we took the data from."
      ]
    }
  ],
  "metadata": {
    "colab": {
      "provenance": []
    },
    "kernelspec": {
      "display_name": "Python 3",
      "language": "python",
      "name": "python3"
    },
    "language_info": {
      "codemirror_mode": {
        "name": "ipython",
        "version": 3
      },
      "file_extension": ".py",
      "mimetype": "text/x-python",
      "name": "python",
      "nbconvert_exporter": "python",
      "pygments_lexer": "ipython3",
      "version": "3.10.11"
    }
  },
  "nbformat": 4,
  "nbformat_minor": 0
}