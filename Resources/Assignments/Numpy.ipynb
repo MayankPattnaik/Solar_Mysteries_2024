{
  "cells": [
    {
      "cell_type": "markdown",
      "metadata": {
        "id": "yyzraFRNOdkY"
      },
      "source": [
        "# Introduction to NumPy"
      ]
    },
    {
      "cell_type": "markdown",
      "metadata": {
        "id": "7CWlah3QOdkn"
      },
      "source": [
        "Now you have seen list, tuple and dictionaries (and we hinted at sets). However, these are not particularly useful when you want to do numerical calculations, or matrix operations. You could try to write a for loop that would iterate through each element, however Python is very slow with operations like that.\n",
        "\n",
        "A better (more Pythonic) way is to use the package known as `numpy`. Numpy arrays are similar to lists and tuples etc. in that they hold multiple values. However, all elements in a numpy array must be of the same data type.\n",
        "\n",
        "Disregarding that small setback, however, we now have a lot more functionality in numpy arrays. It is convenient to think of the behaviour of numpy arrays as similar to a row vector."
      ]
    },
    {
      "cell_type": "code",
      "execution_count": null,
      "metadata": {
        "id": "9fwolzBvOdkr"
      },
      "outputs": [],
      "source": [
        "import numpy as np # This is how you can import packages in python."
      ]
    },
    {
      "cell_type": "markdown",
      "metadata": {
        "id": "meULXpGROdkz"
      },
      "source": [
        "The above line imports the package numpy (which includes all the functions we will be using). The part `as np` renames it to `np` (just for this program, don't worry), which is slightly more convenient."
      ]
    },
    {
      "cell_type": "markdown",
      "metadata": {
        "id": "NpRSnbhoOdk1"
      },
      "source": [
        "Let us assign a numpy array to a variable x."
      ]
    },
    {
      "cell_type": "code",
      "execution_count": null,
      "metadata": {
        "colab": {
          "base_uri": "https://localhost:8080/"
        },
        "id": "bPlG0DtAOdk3",
        "outputId": "1f1983c8-f13e-4327-d837-5086a0c88aec"
      },
      "outputs": [
        {
          "output_type": "stream",
          "name": "stdout",
          "text": [
            "[1 2 3 4] [2 4 6 8]\n"
          ]
        }
      ],
      "source": [
        "x=np.array([1,2,3,4]) # np.array converts any array-like object to a numpy array\n",
        "#x=[1,2,3,4]\n",
        "y=2*x\n",
        "print(x,y)"
      ]
    },
    {
      "cell_type": "markdown",
      "metadata": {
        "id": "FgC5dRdQOdk5"
      },
      "source": [
        "Try the above code with a normal list. Now, hopefully it is clear why `numpy` is powerful. But that is just the beginning!"
      ]
    },
    {
      "cell_type": "code",
      "execution_count": null,
      "metadata": {
        "colab": {
          "base_uri": "https://localhost:8080/"
        },
        "id": "rXwujKhIOdk8",
        "outputId": "fa1da12c-270f-4ce9-f2ba-ce9bdea747aa"
      },
      "outputs": [
        {
          "output_type": "stream",
          "name": "stdout",
          "text": [
            "[ 4  5  6  7 12  9 10]\n"
          ]
        }
      ],
      "source": [
        "x = np.arange(0,100, 1) # This is similar to the range function from earlier, except that it returns a numpy array\n",
        "print(x[[4,5,6,7,12,9,10]])"
      ]
    },
    {
      "cell_type": "markdown",
      "metadata": {
        "id": "TBraiSqkOdk-"
      },
      "source": [
        "Trying a similar trick with a list instead: (this should give an error!)"
      ]
    },
    {
      "cell_type": "code",
      "execution_count": null,
      "metadata": {
        "id": "HI2rhhfQOdlA"
      },
      "outputs": [],
      "source": [
        "x = [1,2,3,4,5,6,7,8,9,10]\n",
        "print(x[[0,1,2]])"
      ]
    },
    {
      "cell_type": "markdown",
      "metadata": {
        "id": "zwrgt5dTOdlC"
      },
      "source": [
        "So `numpy` also supports indexing with lists, instead of only integers or slices, whereas lists don't."
      ]
    },
    {
      "cell_type": "markdown",
      "metadata": {
        "id": "bFoKz-vPOdlD"
      },
      "source": [
        "Similar to the `len` function, numpy also has several functions to describe an array. These are also available as methods, which can be used as follows:"
      ]
    },
    {
      "cell_type": "code",
      "execution_count": null,
      "metadata": {
        "colab": {
          "base_uri": "https://localhost:8080/"
        },
        "id": "GMUmqTM6OdlF",
        "outputId": "5712be56-e27a-4996-869d-ddfc89293aac"
      },
      "outputs": [
        {
          "output_type": "stream",
          "name": "stdout",
          "text": [
            "[[1 2 3]\n",
            " [4 5 6]\n",
            " [7 8 9]]\n"
          ]
        }
      ],
      "source": [
        "x=np.array([[1,2,3],[4,5,6],[7,8,9]])\n",
        "print(x)"
      ]
    },
    {
      "cell_type": "code",
      "execution_count": null,
      "metadata": {
        "colab": {
          "base_uri": "https://localhost:8080/"
        },
        "id": "LsgOlXbFOdlH",
        "outputId": "6e88ff55-fb46-4aca-b8df-c76753061232"
      },
      "outputs": [
        {
          "output_type": "stream",
          "name": "stdout",
          "text": [
            "2\n",
            "(3, 3)\n",
            "9\n"
          ]
        }
      ],
      "source": [
        "print(x.ndim) # number of dimensions. This is a 2D array\n",
        "print(x.shape) # Shape of array\n",
        "print(x.size) # Total number of elements in array (product of elements in shape)"
      ]
    },
    {
      "cell_type": "markdown",
      "metadata": {
        "id": "50AdOxfaOdlJ"
      },
      "source": [
        "Multiplication, like addition is element wise. If matrix multiplication is required, we can either convert it into a numpy matrix or use `np.dot()`"
      ]
    },
    {
      "cell_type": "code",
      "execution_count": null,
      "metadata": {
        "colab": {
          "base_uri": "https://localhost:8080/"
        },
        "id": "ZtnTBupjOdlK",
        "outputId": "7ae3b2ec-98fa-4f3a-fa25-722461b9ea94"
      },
      "outputs": [
        {
          "output_type": "execute_result",
          "data": {
            "text/plain": [
              "array([[ 1,  4,  9],\n",
              "       [16, 25, 36],\n",
              "       [49, 64, 81]])"
            ]
          },
          "metadata": {},
          "execution_count": 8
        }
      ],
      "source": [
        "x*x"
      ]
    },
    {
      "cell_type": "code",
      "execution_count": null,
      "metadata": {
        "colab": {
          "base_uri": "https://localhost:8080/"
        },
        "id": "DB5aHOOxOdlM",
        "outputId": "6f3c2aa4-0034-4864-d95e-4a12761cc6c1"
      },
      "outputs": [
        {
          "output_type": "execute_result",
          "data": {
            "text/plain": [
              "matrix([[ 30,  36,  42],\n",
              "        [ 66,  81,  96],\n",
              "        [102, 126, 150]])"
            ]
          },
          "metadata": {},
          "execution_count": 9
        }
      ],
      "source": [
        "np.matrix(x)*np.matrix(x)"
      ]
    },
    {
      "cell_type": "code",
      "execution_count": null,
      "metadata": {
        "colab": {
          "base_uri": "https://localhost:8080/"
        },
        "id": "TS2O0V53OdlO",
        "outputId": "46c8b908-a9bf-4e97-bf4f-8897e2fdb44d"
      },
      "outputs": [
        {
          "output_type": "execute_result",
          "data": {
            "text/plain": [
              "array([[ 30,  36,  42],\n",
              "       [ 66,  81,  96],\n",
              "       [102, 126, 150]])"
            ]
          },
          "metadata": {},
          "execution_count": 10
        }
      ],
      "source": [
        "np.dot(x,x)"
      ]
    },
    {
      "cell_type": "markdown",
      "metadata": {
        "id": "PjO8eqShOdlQ"
      },
      "source": [
        "Comparisons on numpy arrays are easier now"
      ]
    },
    {
      "cell_type": "code",
      "execution_count": null,
      "metadata": {
        "colab": {
          "base_uri": "https://localhost:8080/"
        },
        "id": "DbNgczV8OdlS",
        "outputId": "49693f6d-201d-42e6-8e33-e5f033b52161"
      },
      "outputs": [
        {
          "output_type": "execute_result",
          "data": {
            "text/plain": [
              "array([[False, False, False],\n",
              "       [False, False,  True],\n",
              "       [ True,  True,  True]])"
            ]
          },
          "metadata": {},
          "execution_count": 11
        }
      ],
      "source": [
        "x>5"
      ]
    },
    {
      "cell_type": "markdown",
      "metadata": {
        "id": "kTvdCnUhOdlU"
      },
      "source": [
        "We can also use conditional expressions like indices"
      ]
    },
    {
      "cell_type": "code",
      "execution_count": null,
      "metadata": {
        "colab": {
          "base_uri": "https://localhost:8080/"
        },
        "id": "Sec4ghOjOdlU",
        "outputId": "e2c6eef0-3dcb-4f5f-e93b-ca9545683e4e"
      },
      "outputs": [
        {
          "output_type": "execute_result",
          "data": {
            "text/plain": [
              "array([[1, 2, 3],\n",
              "       [4, 5, 0],\n",
              "       [0, 0, 0]])"
            ]
          },
          "metadata": {},
          "execution_count": 12
        }
      ],
      "source": [
        "y=np.copy(x) # Simply typing y=x doesnot make a new array, it just adds a reference to the old one.\n",
        "             # Changes in y will then be reflected in x\n",
        "y[y>5]=0\n",
        "y"
      ]
    },
    {
      "cell_type": "markdown",
      "metadata": {
        "id": "Kw_YMLf3OdlV"
      },
      "source": [
        "If we just want the indices where a certain condition is satisified, we can use `np.where()`. This is one of the more **important** functions, as we can use it to filter out data according to conditions."
      ]
    },
    {
      "cell_type": "code",
      "execution_count": null,
      "metadata": {
        "colab": {
          "base_uri": "https://localhost:8080/"
        },
        "id": "r0AiKmWUOdlW",
        "outputId": "f486fedb-61f5-4103-a205-25c0f1655f06"
      },
      "outputs": [
        {
          "output_type": "execute_result",
          "data": {
            "text/plain": [
              "array([0. , 1. , 2. , 3. , 4. , 0.5, 0.6])"
            ]
          },
          "metadata": {},
          "execution_count": 13
        }
      ],
      "source": [
        "x=np.array([0,1,2,3,4,5,6,7,0.5,0.6])\n",
        "indices=np.where(x<5)\n",
        "x[indices]"
      ]
    },
    {
      "cell_type": "markdown",
      "metadata": {
        "id": "pSpDGt8cOdlX"
      },
      "source": [
        "We can also delete elements using `numpy.delete`.\n",
        "\n",
        "Note the array slicing. x is 2 dimensional, and requires 2 indices. `x[:, 0]` returns `np.array[1,4,7]`. Play around with different combinations to become comfortable with using indices, as well as `np.where`.\n",
        "\n",
        "Also note the argument of the function called `axis`. For a 2D array, `axis=0` is along the rows, and `axis=1` is along the columns. `np.where` assigns the index to be `(np.array([2]))`. Removing index 2 along the columns results in y. If you wanted to remove the row instead, then use `axis=0`."
      ]
    },
    {
      "cell_type": "code",
      "execution_count": null,
      "metadata": {
        "colab": {
          "base_uri": "https://localhost:8080/"
        },
        "id": "yycUYRUrOdlY",
        "outputId": "c72e3402-aef3-4200-a212-c55faf6df11d"
      },
      "outputs": [
        {
          "output_type": "stream",
          "name": "stdout",
          "text": [
            "[[1 2]\n",
            " [4 5]\n",
            " [7 8]]\n"
          ]
        }
      ],
      "source": [
        "x=np.array([[1,2,3],[4,5,6],[7,8,9]])\n",
        "index=np.where(x[:,0]>5)\n",
        "y=np.delete(x,index,axis=1)\n",
        "print(y)"
      ]
    },
    {
      "cell_type": "markdown",
      "metadata": {
        "id": "4BOvC9o1OdlY"
      },
      "source": [
        "**Make sure you understand the part about indexing, slicing, and using `np.where` and `np.delete`, and are comfortable using it. Try out different arrays that you define yourself, of different dimensions and shapes, and experiment!!**"
      ]
    },
    {
      "cell_type": "markdown",
      "metadata": {
        "id": "6ubAsZA5OdlZ"
      },
      "source": [
        "Other useful functions in numpy like `numpy.arange`, `numpy.linspace` often come in handy. We have already seen `arange`"
      ]
    },
    {
      "cell_type": "code",
      "execution_count": null,
      "metadata": {
        "colab": {
          "base_uri": "https://localhost:8080/"
        },
        "id": "MSfjRM6lOdla",
        "outputId": "9c918d15-b490-4b4f-cf5b-1d5518001b37"
      },
      "outputs": [
        {
          "output_type": "execute_result",
          "data": {
            "text/plain": [
              "array([0. , 0.1, 0.2, 0.3, 0.4, 0.5, 0.6, 0.7, 0.8, 0.9])"
            ]
          },
          "metadata": {},
          "execution_count": 15
        }
      ],
      "source": [
        "np.arange(0,1,0.1) # start(inclusive):stop(exclusive):step"
      ]
    },
    {
      "cell_type": "code",
      "execution_count": null,
      "metadata": {
        "colab": {
          "base_uri": "https://localhost:8080/"
        },
        "id": "-5s-wBcLOdlb",
        "outputId": "89efa3b0-be70-463b-ff1b-564bf6e5f782"
      },
      "outputs": [
        {
          "output_type": "execute_result",
          "data": {
            "text/plain": [
              "array([0.  , 0.25, 0.5 , 0.75, 1.  ])"
            ]
          },
          "metadata": {},
          "execution_count": 16
        }
      ],
      "source": [
        "np.linspace(0,1,5) #start:stop(inclusive):number of elements"
      ]
    },
    {
      "cell_type": "markdown",
      "metadata": {
        "id": "1MWkP2XyOdlb"
      },
      "source": [
        "That is not even it. Several mathematical functions are also available:"
      ]
    },
    {
      "cell_type": "code",
      "execution_count": null,
      "metadata": {
        "colab": {
          "base_uri": "https://localhost:8080/"
        },
        "id": "5dRDNlrKOdlc",
        "outputId": "1c3ea35a-d4e3-472e-8743-4543e39a2532"
      },
      "outputs": [
        {
          "output_type": "stream",
          "name": "stdout",
          "text": [
            "[-3.14159265 -3.04159265 -2.94159265 -2.84159265 -2.74159265 -2.64159265\n",
            " -2.54159265 -2.44159265 -2.34159265 -2.24159265 -2.14159265 -2.04159265\n",
            " -1.94159265 -1.84159265 -1.74159265 -1.64159265 -1.54159265 -1.44159265\n",
            " -1.34159265 -1.24159265 -1.14159265 -1.04159265 -0.94159265 -0.84159265\n",
            " -0.74159265 -0.64159265 -0.54159265 -0.44159265 -0.34159265 -0.24159265\n",
            " -0.14159265 -0.04159265  0.05840735  0.15840735  0.25840735  0.35840735\n",
            "  0.45840735  0.55840735  0.65840735  0.75840735  0.85840735  0.95840735\n",
            "  1.05840735  1.15840735  1.25840735  1.35840735  1.45840735  1.55840735\n",
            "  1.65840735  1.75840735  1.85840735  1.95840735  2.05840735  2.15840735\n",
            "  2.25840735  2.35840735  2.45840735  2.55840735  2.65840735  2.75840735\n",
            "  2.85840735  2.95840735  3.05840735]\n"
          ]
        }
      ],
      "source": [
        "x = np.arange(-np.pi, np.pi, 0.1)\n",
        "print(x)\n",
        "y = np.sin(x)\n",
        "x_abs = np.abs(x)"
      ]
    },
    {
      "cell_type": "code",
      "execution_count": null,
      "metadata": {
        "colab": {
          "base_uri": "https://localhost:8080/"
        },
        "id": "Pf1mCEUYOdld",
        "outputId": "cd3b8649-df04-4a85-9c30-7b69a761c5c2"
      },
      "outputs": [
        {
          "output_type": "stream",
          "name": "stdout",
          "text": [
            "[-3.14159265 -3.04159265 -2.94159265 -2.84159265 -2.74159265 -2.64159265\n",
            " -2.54159265 -2.44159265 -2.34159265 -2.24159265 -2.14159265 -2.04159265\n",
            " -1.94159265 -1.84159265 -1.74159265 -1.64159265 -1.54159265 -1.44159265\n",
            " -1.34159265 -1.24159265 -1.14159265 -1.04159265 -0.94159265 -0.84159265\n",
            " -0.74159265 -0.64159265 -0.54159265 -0.44159265 -0.34159265 -0.24159265\n",
            " -0.14159265 -0.04159265  0.05840735  0.15840735  0.25840735  0.35840735\n",
            "  0.45840735  0.55840735  0.65840735  0.75840735  0.85840735  0.95840735\n",
            "  1.05840735  1.15840735  1.25840735  1.35840735  1.45840735  1.55840735\n",
            "  1.65840735  1.75840735  1.85840735  1.95840735  2.05840735  2.15840735\n",
            "  2.25840735  2.35840735  2.45840735  2.55840735  2.65840735  2.75840735\n",
            "  2.85840735  2.95840735  3.05840735]\n"
          ]
        }
      ],
      "source": [
        "y2 = np.exp(x)\n",
        "print(x)"
      ]
    },
    {
      "cell_type": "markdown",
      "metadata": {
        "id": "SCPX2bEDOdlf"
      },
      "source": [
        "If you thought `numpy` has revealed all its cards, it hasn't yet! <br>\n",
        "You can also find the mean, standard deviation, maximum, minimum of an array, sort an array, do matrix computations and so much more.\n",
        "\n",
        "If you feel right now that NumPy is vast, remember we have barely scratched the surface. In this module and the next is where your Googling skills will be put to the test.\n",
        "\n",
        "If you want to find the official docstrings for any function, an easy way to get it from Jupyter is to use `?`. For example"
      ]
    },
    {
      "cell_type": "code",
      "execution_count": null,
      "metadata": {
        "id": "DRO7bbsBOdlh"
      },
      "outputs": [],
      "source": [
        "# Note that this is a very useful function, since we can use it to filter out data.\n",
        "np.where?"
      ]
    },
    {
      "cell_type": "markdown",
      "metadata": {
        "id": "NG7Wi12HOdli"
      },
      "source": [
        "As a final note, we will end the tutorial part of this notebook by introducing `np.loadtxt`, a function that can be used to load a txt file into a numpy array. (If you remember how difficult it was to import a text file using `open` and `.split()`, then you will appreciate this one!)"
      ]
    },
    {
      "cell_type": "code",
      "execution_count": null,
      "metadata": {
        "id": "SIFXET8GOdlj"
      },
      "outputs": [],
      "source": [
        "beehive_data = np.loadtxt('Beehive_data.csv', delimiter=',')"
      ]
    },
    {
      "cell_type": "markdown",
      "metadata": {
        "id": "EcMqizOIOdlk"
      },
      "source": [
        "Yes, that's it."
      ]
    },
    {
      "cell_type": "markdown",
      "metadata": {
        "id": "fniRQhy4Odlm"
      },
      "source": [
        "### Your assignment ...\n",
        "... should you choose to accept it, will be the following:\n",
        "1. Re-do Tutorial 1 assignment with numpy. (This should be fairly easy, but use only numpy functions to reproduce your results)\n",
        "2. Use the data from `Beehive_data.csv` to find the distance to the Beehive Cluster. Read on ahead to find out more about the concepts in astronomy you will need to solve this\n",
        "\n",
        "Data downloaded from [VizieR](https://cdsarc.unistra.fr/viz-bin/cat/V/19), from data used in [Piskunov 1980](https://ui.adsabs.harvard.edu/?#abs/1980BICDS..19...67P)"
      ]
    },
    {
      "cell_type": "markdown",
      "metadata": {
        "id": "1GbfAUMtOdlr"
      },
      "source": [
        "# Magnitudes in Astronomy"
      ]
    },
    {
      "cell_type": "markdown",
      "metadata": {
        "id": "q8IbviRkOdls"
      },
      "source": [
        "Magnitudes are a way to describe how bright an object (in our case, a star) is. It is similar to the decibel system for sound in that magnitudes are logarithmic. They can be calculated according to the formula\n",
        "$$\\rm m = -2.5 \\log\\left(\\frac{F}{F_0}\\right)$$\n",
        "where F is the flux from the star (measured in W m$^{-2}$), and F$_0$ is a reference flux.\n",
        "\n",
        "To read up more about magnitudes, hit up the [Wikipedia article on it](https://en.wikipedia.org/wiki/Magnitude_(astronomy)#History)"
      ]
    },
    {
      "cell_type": "markdown",
      "metadata": {
        "id": "rusUXe0YOdlt"
      },
      "source": [
        "Now, we can calculate the flux of a star at some distance d away as\n",
        "$$ F = \\frac{L}{4\\pi d^2} $$\n",
        "where L is the Luminosity of the star (measured in W).\n",
        "\n",
        "There are a lot of details we have skimmed over (for example, the use of filters) which we will visit again in more detail in `Tutorial 8: Image Reduction`."
      ]
    },
    {
      "cell_type": "markdown",
      "metadata": {
        "id": "h4k8a0vWOdlu"
      },
      "source": [
        "As a final note on the data you have been given in `Beehive_data.csv`, the columns are respectively the apparent magnitude of the stars as seen from Earth, the logarithm of the Luminosity(in units of Luminosity of the Sun) of the stars (i.e. $\\log(L/L_\\odot)$, where $L_\\odot$ is the luminosity of the sun), and the probability that the star belongs to the Beehive Cluster.\n",
        "\n",
        "You must find the distance to the cluster (you are given that the absolute magnitude of the Sun is +4.83). You can do this in two ways:\n",
        "1. Exclude all the stars with low probability of belonging to the cluster, and then calculate distance for each star, and find the mean.\n",
        "2. Find the distance for all stars (including the low probability ones) and find the weighted average of the distances, where the weights are the probability."
      ]
    },
    {
      "cell_type": "markdown",
      "metadata": {
        "id": "eGM_Vfx4Odlv"
      },
      "source": [
        "Good Luck!"
      ]
    }
  ],
  "metadata": {
    "kernelspec": {
      "display_name": "Python 3",
      "language": "python",
      "name": "python3"
    },
    "language_info": {
      "codemirror_mode": {
        "name": "ipython",
        "version": 3
      },
      "file_extension": ".py",
      "mimetype": "text/x-python",
      "name": "python",
      "nbconvert_exporter": "python",
      "pygments_lexer": "ipython3",
      "version": "3.8.3"
    },
    "colab": {
      "provenance": []
    }
  },
  "nbformat": 4,
  "nbformat_minor": 0
}