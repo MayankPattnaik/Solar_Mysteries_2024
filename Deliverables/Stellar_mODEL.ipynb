{
  "cells": [
    {
      "cell_type": "code",
      "execution_count": null,
      "metadata": {
        "colab": {
          "background_save": true,
          "base_uri": "https://localhost:8080/"
        },
        "id": "slhVbnOuk48K",
        "outputId": "50a5edfc-bef4-4643-8333-24457ec6f490"
      },
      "outputs": [
        {
          "name": "stdout",
          "output_type": "stream",
          "text": [
            "Cloning into 'mesa'...\n",
            "remote: Enumerating objects: 41228, done.\u001b[K\n",
            "remote: Counting objects: 100% (9934/9934), done.\u001b[K\n",
            "remote: Compressing objects: 100% (3634/3634), done.\u001b[K\n",
            "^C\n",
            "/bin/bash: line 1: cd: mesa: No such file or directory\n",
            "/bin/bash: line 1: ./install: No such file or directory\n"
          ]
        }
      ],
      "source": [
        "!git clone https://github.com/MESAHub/mesa.git\n",
        "!cd mesa\n",
        "!./install"
      ]
    },
    {
      "cell_type": "code",
      "execution_count": null,
      "metadata": {
        "colab": {
          "base_uri": "https://localhost:8080/"
        },
        "id": "sEfsaUPUqqtt",
        "outputId": "137612f9-03aa-4e9b-f536-8176d74841d6"
      },
      "outputs": [
        {
          "name": "stdout",
          "output_type": "stream",
          "text": [
            "mesa  sample_data\n"
          ]
        }
      ],
      "source": [
        "!ls"
      ]
    },
    {
      "cell_type": "code",
      "execution_count": null,
      "metadata": {
        "id": "2eminXhnqrz_"
      },
      "outputs": [],
      "source": [
        "!cd mesa"
      ]
    },
    {
      "cell_type": "code",
      "execution_count": null,
      "metadata": {
        "colab": {
          "base_uri": "https://localhost:8080/"
        },
        "id": "NBDGJt1cquf_",
        "outputId": "fa2d8f37-88be-452a-cd83-c56923a46870"
      },
      "outputs": [
        {
          "name": "stdout",
          "output_type": "stream",
          "text": [
            "/bin/bash: line 1: ./install: No such file or directory\n"
          ]
        }
      ],
      "source": [
        "!./install"
      ]
    },
    {
      "cell_type": "code",
      "execution_count": null,
      "metadata": {
        "colab": {
          "base_uri": "https://localhost:8080/"
        },
        "id": "WYIyAk_Tqx8t",
        "outputId": "f73331f8-52c1-4d51-d3f3-fffcc18cecd8"
      },
      "outputs": [
        {
          "name": "stdout",
          "output_type": "stream",
          "text": [
            "\u001b[0m\u001b[01;32mapp.js\u001b[0m*          \u001b[01;32mjupyter.js\u001b[0m*    \u001b[01;32mpackage.json\u001b[0m*       \u001b[01;32mreverseProxy.js\u001b[0m*     \u001b[01;32msockets.js\u001b[0m*\n",
            "\u001b[01;32mappSettings.js\u001b[0m*  \u001b[01;32mlogging.js\u001b[0m*    \u001b[01;32mpackage-lock.json\u001b[0m*  \u001b[01;32mserver.js\u001b[0m*\n",
            "\u001b[01;34mconfig\u001b[0m/          \u001b[01;34mlsp\u001b[0m/           \u001b[01;34mpyright\u001b[0m/            \u001b[01;32msocketio_to_dap.js\u001b[0m*\n",
            "\u001b[01;32mjson_rpc.js\u001b[0m*     \u001b[01;34mnode_modules\u001b[0m/  \u001b[01;32mpython_lsp.js\u001b[0m*      \u001b[01;32msocketio_to_pty.js\u001b[0m*\n"
          ]
        }
      ],
      "source": [
        "ls /datalab/web\n"
      ]
    },
    {
      "cell_type": "code",
      "execution_count": null,
      "metadata": {
        "colab": {
          "base_uri": "https://localhost:8080/"
        },
        "id": "yeJ8K__o7mQO",
        "outputId": "1495bc15-7d99-4c04-a92e-2331b1b65465"
      },
      "outputs": [
        {
          "name": "stdout",
          "output_type": "stream",
          "text": [
            "Collecting node\n",
            "  Downloading node-1.2.2-py3-none-any.whl.metadata (37 kB)\n",
            "Collecting odict>=1.9.0 (from node)\n",
            "  Downloading odict-1.9.0-py3-none-any.whl.metadata (10 kB)\n",
            "Collecting plumber>=1.5 (from node)\n",
            "  Downloading plumber-1.7-py3-none-any.whl.metadata (42 kB)\n",
            "\u001b[2K     \u001b[90m━━━━━━━━━━━━━━━━━━━━━━━━━━━━━━━━━━━━━━━━\u001b[0m \u001b[32m42.2/42.2 kB\u001b[0m \u001b[31m4.3 MB/s\u001b[0m eta \u001b[36m0:00:00\u001b[0m\n",
            "\u001b[?25hRequirement already satisfied: setuptools in /usr/local/lib/python3.10/dist-packages (from node) (75.1.0)\n",
            "Collecting zope.component (from node)\n",
            "  Downloading zope.component-6.0-py3-none-any.whl.metadata (18 kB)\n",
            "Collecting zope.deferredimport (from node)\n",
            "  Downloading zope.deferredimport-5.0-py3-none-any.whl.metadata (5.1 kB)\n",
            "Collecting zope.deprecation (from node)\n",
            "  Downloading zope.deprecation-5.0-py3-none-any.whl.metadata (5.1 kB)\n",
            "Collecting zope.lifecycleevent (from node)\n",
            "  Downloading zope.lifecycleevent-5.0-py3-none-any.whl.metadata (6.0 kB)\n",
            "Collecting zope.event (from zope.component->node)\n",
            "  Downloading zope.event-5.0-py3-none-any.whl.metadata (4.4 kB)\n",
            "Collecting zope.hookable>=4.2.0 (from zope.component->node)\n",
            "  Downloading zope.hookable-7.0-cp310-cp310-manylinux_2_5_x86_64.manylinux1_x86_64.manylinux_2_17_x86_64.manylinux2014_x86_64.whl.metadata (6.2 kB)\n",
            "Collecting zope.interface>=5.3 (from zope.component->node)\n",
            "  Downloading zope.interface-7.2-cp310-cp310-manylinux_2_5_x86_64.manylinux1_x86_64.manylinux_2_17_x86_64.manylinux2014_x86_64.whl.metadata (44 kB)\n",
            "\u001b[2K     \u001b[90m━━━━━━━━━━━━━━━━━━━━━━━━━━━━━━━━━━━━━━━━\u001b[0m \u001b[32m44.4/44.4 kB\u001b[0m \u001b[31m3.2 MB/s\u001b[0m eta \u001b[36m0:00:00\u001b[0m\n",
            "\u001b[?25hCollecting zope.proxy (from zope.deferredimport->node)\n",
            "  Downloading zope.proxy-6.1-cp310-cp310-manylinux_2_5_x86_64.manylinux1_x86_64.manylinux_2_17_x86_64.manylinux2014_x86_64.whl.metadata (11 kB)\n",
            "Downloading node-1.2.2-py3-none-any.whl (102 kB)\n",
            "\u001b[2K   \u001b[90m━━━━━━━━━━━━━━━━━━━━━━━━━━━━━━━━━━━━━━━━\u001b[0m \u001b[32m102.8/102.8 kB\u001b[0m \u001b[31m3.3 MB/s\u001b[0m eta \u001b[36m0:00:00\u001b[0m\n",
            "\u001b[?25hDownloading odict-1.9.0-py3-none-any.whl (15 kB)\n",
            "Downloading plumber-1.7-py3-none-any.whl (25 kB)\n",
            "Downloading zope.component-6.0-py3-none-any.whl (68 kB)\n",
            "\u001b[2K   \u001b[90m━━━━━━━━━━━━━━━━━━━━━━━━━━━━━━━━━━━━━━━━\u001b[0m \u001b[32m68.8/68.8 kB\u001b[0m \u001b[31m6.7 MB/s\u001b[0m eta \u001b[36m0:00:00\u001b[0m\n",
            "\u001b[?25hDownloading zope.deferredimport-5.0-py3-none-any.whl (10.0 kB)\n",
            "Downloading zope.deprecation-5.0-py3-none-any.whl (10 kB)\n",
            "Downloading zope.lifecycleevent-5.0-py3-none-any.whl (18 kB)\n",
            "Downloading zope.hookable-7.0-cp310-cp310-manylinux_2_5_x86_64.manylinux1_x86_64.manylinux_2_17_x86_64.manylinux2014_x86_64.whl (24 kB)\n",
            "Downloading zope.interface-7.2-cp310-cp310-manylinux_2_5_x86_64.manylinux1_x86_64.manylinux_2_17_x86_64.manylinux2014_x86_64.whl (254 kB)\n",
            "\u001b[2K   \u001b[90m━━━━━━━━━━━━━━━━━━━━━━━━━━━━━━━━━━━━━━━━\u001b[0m \u001b[32m254.5/254.5 kB\u001b[0m \u001b[31m11.4 MB/s\u001b[0m eta \u001b[36m0:00:00\u001b[0m\n",
            "\u001b[?25hDownloading zope.event-5.0-py3-none-any.whl (6.8 kB)\n",
            "Downloading zope.proxy-6.1-cp310-cp310-manylinux_2_5_x86_64.manylinux1_x86_64.manylinux_2_17_x86_64.manylinux2014_x86_64.whl (70 kB)\n",
            "\u001b[2K   \u001b[90m━━━━━━━━━━━━━━━━━━━━━━━━━━━━━━━━━━━━━━━━\u001b[0m \u001b[32m70.2/70.2 kB\u001b[0m \u001b[31m6.8 MB/s\u001b[0m eta \u001b[36m0:00:00\u001b[0m\n",
            "\u001b[?25hInstalling collected packages: zope.interface, zope.hookable, zope.event, zope.deprecation, plumber, odict, zope.proxy, zope.lifecycleevent, zope.component, zope.deferredimport, node\n",
            "Successfully installed node-1.2.2 odict-1.9.0 plumber-1.7 zope.component-6.0 zope.deferredimport-5.0 zope.deprecation-5.0 zope.event-5.0 zope.hookable-7.0 zope.interface-7.2 zope.lifecycleevent-5.0 zope.proxy-6.1\n"
          ]
        }
      ],
      "source": [
        "pip install node"
      ]
    },
    {
      "cell_type": "code",
      "execution_count": null,
      "metadata": {
        "colab": {
          "base_uri": "https://localhost:8080/"
        },
        "id": "MR5FV5UW8Hb8",
        "outputId": "f862c8fd-1774-4f49-9084-9faa880da099"
      },
      "outputs": [
        {
          "name": "stdout",
          "output_type": "stream",
          "text": [
            "\"use strict\";\n",
            "/*\n",
            " * Copyright 2015 Google Inc. All rights reserved.\n",
            " *\n",
            " * Licensed under the Apache License, Version 2.0 (the \"License\"); you may not\n",
            " * use this file except in compliance with the License. You may obtain a copy of\n",
            " * the License at\n",
            " *\n",
            " * http://www.apache.org/licenses/LICENSE-2.0\n",
            " *\n",
            " * Unless required by applicable law or agreed to in writing, software\n",
            " * distributed under the License is distributed on an \"AS IS\" BASIS, WITHOUT\n",
            " * WARRANTIES OR CONDITIONS OF ANY KIND, either express or implied. See the\n",
            " * License for the specific language governing permissions and limitations under\n",
            " * the License.\n",
            " */\n",
            "Object.defineProperty(exports, \"__esModule\", { value: true });\n",
            "var fs = require(\"fs\");\n",
            "var path = require(\"path\");\n",
            "var appSettings_1 = require(\"./appSettings\");\n",
            "var logging = require(\"./logging\");\n",
            "var server = require(\"./server\");\n",
            "/**\n",
            " * Loads the configuration settings for the application to use.\n",
            " * On first run, this generates any dynamic settings and merges them into the\n",
            " * settings result.\n",
            " * @return the settings object for the application to use.\n",
            " */\n",
            "function loadAppSettings() {\n",
            "    var settingsPath = path.join(__dirname, 'config', 'settings.json');\n",
            "    if (!fs.existsSync(settingsPath)) {\n",
            "        var msg = \"App settings file \\\"\".concat(settingsPath, \"\\\" not found.\");\n",
            "        console.error(msg);\n",
            "        throw new Error(msg);\n",
            "    }\n",
            "    try {\n",
            "        var settings = JSON.parse(fs.readFileSync(settingsPath, 'utf8') || '{}');\n",
            "        (0, appSettings_1.applyEnvironmentVariables)(settings);\n",
            "        return settings;\n",
            "    }\n",
            "    catch (e) {\n",
            "        console.error(e);\n",
            "        throw new Error(\"Error parsing settings overrides: \".concat(e));\n",
            "    }\n",
            "}\n",
            "/**\n",
            " * Load the configuration settings, and then start the server, which\n",
            " * runs indefinitely, listening to and processing incoming HTTP requests.\n",
            " */\n",
            "var appSettings = loadAppSettings();\n",
            "if (appSettings != null) {\n",
            "    logging.initializeLoggers(appSettings);\n",
            "    logging.getLogger().info('app: starting with settings: %s', JSON.stringify(appSettings));\n",
            "    server.run(appSettings);\n",
            "}\n",
            "/**\n",
            " * Handle shutdown of this process, to also stop the server, which will in turn\n",
            " * stop the associated Jupyter server process.\n",
            " */\n",
            "function exit() {\n",
            "    logging.getLogger().info('app: exit');\n",
            "    server.stop();\n",
            "    logging.getLogger().info('app: exit: stopped');\n",
            "    process.exit(0);\n",
            "}\n",
            "/**\n",
            " * Handle uncaught exceptions to log them.\n",
            " */\n",
            "function errorHandler(e) {\n",
            "    console.error(e.stack);\n",
            "    logging.getLogger().error(e, 'Unhandled exception');\n",
            "    process.exit(1);\n",
            "}\n",
            "process.on('uncaughtException', errorHandler);\n",
            "process.on('exit', exit);\n",
            "process.on('SIGINT', exit);\n",
            "process.on('SIGTERM', exit);\n",
            "//# sourceMappingURL=data:application/json;base64,eyJ2ZXJzaW9uIjozLCJmaWxlIjoiYXBwLmpzIiwic291cmNlUm9vdCI6IiIsInNvdXJjZXMiOlsiLi4vLi4vLi4vLi4vLi4vLi4vdGhpcmRfcGFydHkvY29sYWIvc291cmNlcy9hcHAudHMiXSwibmFtZXMiOltdLCJtYXBwaW5ncyI6IjtBQUFBOzs7Ozs7Ozs7Ozs7OztHQWNHOztBQUVILHVCQUF5QjtBQUN6QiwyQkFBNkI7QUFFN0IsNkNBQXFFO0FBQ3JFLG1DQUFxQztBQUNyQyxpQ0FBbUM7QUFFbkM7Ozs7O0dBS0c7QUFDSCxTQUFTLGVBQWU7SUFDdEIsSUFBTSxZQUFZLEdBQUcsSUFBSSxDQUFDLElBQUksQ0FBQyxTQUFTLEVBQUUsUUFBUSxFQUFFLGVBQWUsQ0FBQyxDQUFDO0lBRXJFLElBQUksQ0FBQyxFQUFFLENBQUMsVUFBVSxDQUFDLFlBQVksQ0FBQyxFQUFFLENBQUM7UUFDakMsSUFBTSxHQUFHLEdBQUcsOEJBQXNCLFlBQVksa0JBQWMsQ0FBQztRQUM3RCxPQUFPLENBQUMsS0FBSyxDQUFDLEdBQUcsQ0FBQyxDQUFDO1FBQ25CLE1BQU0sSUFBSSxLQUFLLENBQUMsR0FBRyxDQUFDLENBQUM7SUFDdkIsQ0FBQztJQUVELElBQUksQ0FBQztRQUNILElBQU0sUUFBUSxHQUNWLElBQUksQ0FBQyxLQUFLLENBQUMsRUFBRSxDQUFDLFlBQVksQ0FBQyxZQUFZLEVBQUUsTUFBTSxDQUFDLElBQUksSUFBSSxDQUM3QyxDQUFDO1FBQ2hCLElBQUEsdUNBQXlCLEVBQUMsUUFBUSxDQUFDLENBQUM7UUFDcEMsT0FBTyxRQUFRLENBQUM7SUFDbEIsQ0FBQztJQUFDLE9BQU8sQ0FBQyxFQUFFLENBQUM7UUFDWCxPQUFPLENBQUMsS0FBSyxDQUFDLENBQUMsQ0FBQyxDQUFDO1FBQ2pCLE1BQU0sSUFBSSxLQUFLLENBQUMsNENBQXFDLENBQUMsQ0FBRSxDQUFDLENBQUM7SUFDNUQsQ0FBQztBQUNILENBQUM7QUFFRDs7O0dBR0c7QUFDSCxJQUFNLFdBQVcsR0FBRyxlQUFlLEVBQUUsQ0FBQztBQUN0QyxJQUFJLFdBQVcsSUFBSSxJQUFJLEVBQUUsQ0FBQztJQUN4QixPQUFPLENBQUMsaUJBQWlCLENBQUMsV0FBVyxDQUFDLENBQUM7SUFDdkMsT0FBTyxDQUFDLFNBQVMsRUFBRSxDQUFDLElBQUksQ0FDcEIsaUNBQWlDLEVBQUUsSUFBSSxDQUFDLFNBQVMsQ0FBQyxXQUFXLENBQUMsQ0FBQyxDQUFDO0lBQ3BFLE1BQU0sQ0FBQyxHQUFHLENBQUMsV0FBVyxDQUFDLENBQUM7QUFDMUIsQ0FBQztBQUdEOzs7R0FHRztBQUNILFNBQVMsSUFBSTtJQUNYLE9BQU8sQ0FBQyxTQUFTLEVBQUUsQ0FBQyxJQUFJLENBQUMsV0FBVyxDQUFDLENBQUM7SUFDdEMsTUFBTSxDQUFDLElBQUksRUFBRSxDQUFDO0lBQ2QsT0FBTyxDQUFDLFNBQVMsRUFBRSxDQUFDLElBQUksQ0FBQyxvQkFBb0IsQ0FBQyxDQUFDO0lBQy9DLE9BQU8sQ0FBQyxJQUFJLENBQUMsQ0FBQyxDQUFDLENBQUM7QUFDbEIsQ0FBQztBQUVEOztHQUVHO0FBQ0gsU0FBUyxZQUFZLENBQUMsQ0FBUTtJQUM1QixPQUFPLENBQUMsS0FBSyxDQUFDLENBQUMsQ0FBQyxLQUFLLENBQUMsQ0FBQztJQUV2QixPQUFPLENBQUMsU0FBUyxFQUFFLENBQUMsS0FBSyxDQUFDLENBQUMsRUFBRSxxQkFBcUIsQ0FBQyxDQUFDO0lBQ3BELE9BQU8sQ0FBQyxJQUFJLENBQUMsQ0FBQyxDQUFDLENBQUM7QUFDbEIsQ0FBQztBQUVELE9BQU8sQ0FBQyxFQUFFLENBQUMsbUJBQW1CLEVBQUUsWUFBWSxDQUFDLENBQUM7QUFDOUMsT0FBTyxDQUFDLEVBQUUsQ0FBQyxNQUFNLEVBQUUsSUFBSSxDQUFDLENBQUM7QUFDekIsT0FBTyxDQUFDLEVBQUUsQ0FBQyxRQUFRLEVBQUUsSUFBSSxDQUFDLENBQUM7QUFDM0IsT0FBTyxDQUFDLEVBQUUsQ0FBQyxTQUFTLEVBQUUsSUFBSSxDQUFDLENBQUMiLCJzb3VyY2VzQ29udGVudCI6WyIvKlxuICogQ29weXJpZ2h0IDIwMTUgR29vZ2xlIEluYy4gQWxsIHJpZ2h0cyByZXNlcnZlZC5cbiAqXG4gKiBMaWNlbnNlZCB1bmRlciB0aGUgQXBhY2hlIExpY2Vuc2UsIFZlcnNpb24gMi4wICh0aGUgXCJMaWNlbnNlXCIpOyB5b3UgbWF5IG5vdFxuICogdXNlIHRoaXMgZmlsZSBleGNlcHQgaW4gY29tcGxpYW5jZSB3aXRoIHRoZSBMaWNlbnNlLiBZb3UgbWF5IG9idGFpbiBhIGNvcHkgb2ZcbiAqIHRoZSBMaWNlbnNlIGF0XG4gKlxuICogaHR0cDovL3d3dy5hcGFjaGUub3JnL2xpY2Vuc2VzL0xJQ0VOU0UtMi4wXG4gKlxuICogVW5sZXNzIHJlcXVpcmVkIGJ5IGFwcGxpY2FibGUgbGF3IG9yIGFncmVlZCB0byBpbiB3cml0aW5nLCBzb2Z0d2FyZVxuICogZGlzdHJpYnV0ZWQgdW5kZXIgdGhlIExpY2Vuc2UgaXMgZGlzdHJpYnV0ZWQgb24gYW4gXCJBUyBJU1wiIEJBU0lTLCBXSVRIT1VUXG4gKiBXQVJSQU5USUVTIE9SIENPTkRJVElPTlMgT0YgQU5ZIEtJTkQsIGVpdGhlciBleHByZXNzIG9yIGltcGxpZWQuIFNlZSB0aGVcbiAqIExpY2Vuc2UgZm9yIHRoZSBzcGVjaWZpYyBsYW5ndWFnZSBnb3Zlcm5pbmcgcGVybWlzc2lvbnMgYW5kIGxpbWl0YXRpb25zIHVuZGVyXG4gKiB0aGUgTGljZW5zZS5cbiAqL1xuXG5pbXBvcnQgKiBhcyBmcyBmcm9tICdmcyc7XG5pbXBvcnQgKiBhcyBwYXRoIGZyb20gJ3BhdGgnO1xuXG5pbXBvcnQge2FwcGx5RW52aXJvbm1lbnRWYXJpYWJsZXMsIEFwcFNldHRpbmdzfSBmcm9tICcuL2FwcFNldHRpbmdzJztcbmltcG9ydCAqIGFzIGxvZ2dpbmcgZnJvbSAnLi9sb2dnaW5nJztcbmltcG9ydCAqIGFzIHNlcnZlciBmcm9tICcuL3NlcnZlcic7XG5cbi8qKlxuICogTG9hZHMgdGhlIGNvbmZpZ3VyYXRpb24gc2V0dGluZ3MgZm9yIHRoZSBhcHBsaWNhdGlvbiB0byB1c2UuXG4gKiBPbiBmaXJzdCBydW4sIHRoaXMgZ2VuZXJhdGVzIGFueSBkeW5hbWljIHNldHRpbmdzIGFuZCBtZXJnZXMgdGhlbSBpbnRvIHRoZVxuICogc2V0dGluZ3MgcmVzdWx0LlxuICogQHJldHVybiB0aGUgc2V0dGluZ3Mgb2JqZWN0IGZvciB0aGUgYXBwbGljYXRpb24gdG8gdXNlLlxuICovXG5mdW5jdGlvbiBsb2FkQXBwU2V0dGluZ3MoKTogQXBwU2V0dGluZ3Mge1xuICBjb25zdCBzZXR0aW5nc1BhdGggPSBwYXRoLmpvaW4oX19kaXJuYW1lLCAnY29uZmlnJywgJ3NldHRpbmdzLmpzb24nKTtcblxuICBpZiAoIWZzLmV4aXN0c1N5bmMoc2V0dGluZ3NQYXRoKSkge1xuICAgIGNvbnN0IG1zZyA9IGBBcHAgc2V0dGluZ3MgZmlsZSBcIiR7c2V0dGluZ3NQYXRofVwiIG5vdCBmb3VuZC5gO1xuICAgIGNvbnNvbGUuZXJyb3IobXNnKTtcbiAgICB0aHJvdyBuZXcgRXJyb3IobXNnKTtcbiAgfVxuXG4gIHRyeSB7XG4gICAgY29uc3Qgc2V0dGluZ3MgPVxuICAgICAgICBKU09OLnBhcnNlKGZzLnJlYWRGaWxlU3luYyhzZXR0aW5nc1BhdGgsICd1dGY4JykgfHwgJ3t9JykgYXNcbiAgICAgICAgQXBwU2V0dGluZ3M7XG4gICAgYXBwbHlFbnZpcm9ubWVudFZhcmlhYmxlcyhzZXR0aW5ncyk7XG4gICAgcmV0dXJuIHNldHRpbmdzO1xuICB9IGNhdGNoIChlKSB7XG4gICAgY29uc29sZS5lcnJvcihlKTtcbiAgICB0aHJvdyBuZXcgRXJyb3IoYEVycm9yIHBhcnNpbmcgc2V0dGluZ3Mgb3ZlcnJpZGVzOiAke2V9YCk7XG4gIH1cbn1cblxuLyoqXG4gKiBMb2FkIHRoZSBjb25maWd1cmF0aW9uIHNldHRpbmdzLCBhbmQgdGhlbiBzdGFydCB0aGUgc2VydmVyLCB3aGljaFxuICogcnVucyBpbmRlZmluaXRlbHksIGxpc3RlbmluZyB0byBhbmQgcHJvY2Vzc2luZyBpbmNvbWluZyBIVFRQIHJlcXVlc3RzLlxuICovXG5jb25zdCBhcHBTZXR0aW5ncyA9IGxvYWRBcHBTZXR0aW5ncygpO1xuaWYgKGFwcFNldHRpbmdzICE9IG51bGwpIHtcbiAgbG9nZ2luZy5pbml0aWFsaXplTG9nZ2VycyhhcHBTZXR0aW5ncyk7XG4gIGxvZ2dpbmcuZ2V0TG9nZ2VyKCkuaW5mbyhcbiAgICAgICdhcHA6IHN0YXJ0aW5nIHdpdGggc2V0dGluZ3M6ICVzJywgSlNPTi5zdHJpbmdpZnkoYXBwU2V0dGluZ3MpKTtcbiAgc2VydmVyLnJ1bihhcHBTZXR0aW5ncyk7XG59XG5cblxuLyoqXG4gKiBIYW5kbGUgc2h1dGRvd24gb2YgdGhpcyBwcm9jZXNzLCB0byBhbHNvIHN0b3AgdGhlIHNlcnZlciwgd2hpY2ggd2lsbCBpbiB0dXJuXG4gKiBzdG9wIHRoZSBhc3NvY2lhdGVkIEp1cHl0ZXIgc2VydmVyIHByb2Nlc3MuXG4gKi9cbmZ1bmN0aW9uIGV4aXQoKSB7XG4gIGxvZ2dpbmcuZ2V0TG9nZ2VyKCkuaW5mbygnYXBwOiBleGl0Jyk7XG4gIHNlcnZlci5zdG9wKCk7XG4gIGxvZ2dpbmcuZ2V0TG9nZ2VyKCkuaW5mbygnYXBwOiBleGl0OiBzdG9wcGVkJyk7XG4gIHByb2Nlc3MuZXhpdCgwKTtcbn1cblxuLyoqXG4gKiBIYW5kbGUgdW5jYXVnaHQgZXhjZXB0aW9ucyB0byBsb2cgdGhlbS5cbiAqL1xuZnVuY3Rpb24gZXJyb3JIYW5kbGVyKGU6IEVycm9yKTogdm9pZCB7XG4gIGNvbnNvbGUuZXJyb3IoZS5zdGFjayk7XG5cbiAgbG9nZ2luZy5nZXRMb2dnZXIoKS5lcnJvcihlLCAnVW5oYW5kbGVkIGV4Y2VwdGlvbicpO1xuICBwcm9jZXNzLmV4aXQoMSk7XG59XG5cbnByb2Nlc3Mub24oJ3VuY2F1Z2h0RXhjZXB0aW9uJywgZXJyb3JIYW5kbGVyKTtcbnByb2Nlc3Mub24oJ2V4aXQnLCBleGl0KTtcbnByb2Nlc3Mub24oJ1NJR0lOVCcsIGV4aXQpO1xucHJvY2Vzcy5vbignU0lHVEVSTScsIGV4aXQpO1xuIl19"
          ]
        }
      ],
      "source": [
        "cat /datalab/web/app.js"
      ]
    },
    {
      "cell_type": "code",
      "execution_count": null,
      "metadata": {
        "colab": {
          "base_uri": "https://localhost:8080/"
        },
        "id": "GcAgmB-F71rh",
        "outputId": "cf8ebd11-2503-4f06-beaf-cf43c7d6c3e1"
      },
      "outputs": [
        {
          "name": "stdout",
          "output_type": "stream",
          "text": [
            "{\"pid\":839,\"level\":30,\"msg\":\"app: starting with settings: {\\\"contentDir\\\":\\\"/content\\\",\\\"datalabRoot\\\":\\\"\\\",\\\"jupyterArgs\\\":[\\\"--debug\\\",\\\"--transport=\\\\\\\"ipc\\\\\\\"\\\",\\\"--ip=172.28.0.12\\\",\\\"--NotebookApp.token=\\\"],\\\"nextJupyterPort\\\":9000,\\\"serverHost\\\":\\\"\\\",\\\"serverPort\\\":8080,\\\"languageServerProxy\\\":\\\"/usr/colab/bin/language_service\\\",\\\"debugAdapterMultiplexerPath\\\":\\\"/usr/local/bin/dap_multiplexer\\\",\\\"kernelManagerProxyPort\\\":6000,\\\"kernelManagerProxyHost\\\":\\\"172.28.0.12\\\",\\\"languageServerProxyArgs\\\":[\\\"--lsp_search_dirs=/datalab/web/pyright/typeshed-fallback/stdlib,/usr/local/lib/python3.10/dist-packages\\\",\\\"--language_services_request_root_url=http://172.28.0.1:8013/\\\",\\\"--language_services_request_timeout=30s\\\"],\\\"fileHandlerAddr\\\":\\\"localhost:3453\\\"}\",\"time\":\"2024-12-07T09:01:51.936Z\",\"v\":0}\n",
            "{\"pid\":839,\"level\":30,\"msg\":\"Launching Jupyter server at 9000\",\"time\":\"2024-12-07T09:01:51.938Z\",\"v\":0}\n",
            "{\"pid\":839,\"level\":30,\"msg\":\"Using jupyter server address 172.28.0.12\",\"time\":\"2024-12-07T09:01:51.938Z\",\"v\":0}\n",
            "{\"pid\":839,\"level\":30,\"msg\":\"Jupyter process started with pid 850 and args [\\\"notebook\\\",\\\"--debug\\\",\\\"--transport=\\\\\\\"ipc\\\\\\\"\\\",\\\"--ip=172.28.0.12\\\",\\\"--NotebookApp.token=\\\",\\\"--port=9000\\\",\\\"--FileContentsManager.root_dir=/\\\",\\\"--MappingKernelManager.root_dir=/content\\\"]\",\"time\":\"2024-12-07T09:01:51.949Z\",\"v\":0}\n",
            "{\"pid\":839,\"level\":30,\"msg\":\"Starting server at http://localhost:8080\",\"time\":\"2024-12-07T09:01:51.985Z\",\"v\":0}\n",
            "Error: listen EADDRINUSE: address already in use :::8080\n",
            "    at Server.setupListenHandle [as _listen2] (node:net:1817:16)\n",
            "    at listenInCluster (node:net:1865:12)\n",
            "    at Server.listen (node:net:1953:7)\n",
            "    at Object.run (/datalab/web/server.js:265:12)\n",
            "    at Object.<anonymous> (/datalab/web/app.js:54:12)\n",
            "    at Module._compile (node:internal/modules/cjs/loader:1364:14)\n",
            "    at Module._extensions..js (node:internal/modules/cjs/loader:1422:10)\n",
            "    at Module.load (node:internal/modules/cjs/loader:1203:32)\n",
            "    at Module._load (node:internal/modules/cjs/loader:1019:12)\n",
            "    at Function.executeUserEntryPoint [as runMain] (node:internal/modules/run_main:128:12)\n",
            "{\"pid\":839,\"level\":50,\"err\":{\"message\":\"listen EADDRINUSE: address already in use :::8080\",\"name\":\"Error\",\"stack\":\"Error: listen EADDRINUSE: address already in use :::8080\\n    at Server.setupListenHandle [as _listen2] (node:net:1817:16)\\n    at listenInCluster (node:net:1865:12)\\n    at Server.listen (node:net:1953:7)\\n    at Object.run (/datalab/web/server.js:265:12)\\n    at Object.<anonymous> (/datalab/web/app.js:54:12)\\n    at Module._compile (node:internal/modules/cjs/loader:1364:14)\\n    at Module._extensions..js (node:internal/modules/cjs/loader:1422:10)\\n    at Module.load (node:internal/modules/cjs/loader:1203:32)\\n    at Module._load (node:internal/modules/cjs/loader:1019:12)\\n    at Function.executeUserEntryPoint [as runMain] (node:internal/modules/run_main:128:12)\",\"code\":\"EADDRINUSE\"},\"msg\":\"Unhandled exception\",\"time\":\"2024-12-07T09:01:51.998Z\",\"v\":0}\n",
            "{\"pid\":839,\"level\":30,\"msg\":\"app: exit\",\"time\":\"2024-12-07T09:01:52.001Z\",\"v\":0}\n",
            "{\"pid\":839,\"level\":30,\"msg\":\"jupyter close: PID: 850\",\"time\":\"2024-12-07T09:01:52.001Z\",\"v\":0}\n",
            "{\"pid\":839,\"level\":30,\"msg\":\"app: exit: stopped\",\"time\":\"2024-12-07T09:01:52.003Z\",\"v\":0}\n"
          ]
        }
      ],
      "source": [
        "!node /datalab/web/app.js"
      ]
    },
    {
      "cell_type": "code",
      "execution_count": null,
      "metadata": {
        "id": "zy-gv1U6rCh8"
      },
      "outputs": [],
      "source": [
        "!cd mesa"
      ]
    },
    {
      "cell_type": "code",
      "execution_count": null,
      "metadata": {
        "colab": {
          "base_uri": "https://localhost:8080/"
        },
        "id": "lWhGfZtKrGTF",
        "outputId": "437eb44b-fabb-4bbc-f458-b73b0760ab31"
      },
      "outputs": [
        {
          "name": "stdout",
          "output_type": "stream",
          "text": [
            "mesa  sample_data\n"
          ]
        }
      ],
      "source": [
        "!ls"
      ]
    },
    {
      "cell_type": "code",
      "execution_count": null,
      "metadata": {
        "colab": {
          "base_uri": "https://localhost:8080/"
        },
        "id": "8IUqEjb5rHqA",
        "outputId": "2350c48f-d4a5-4000-ab02-d3264b7f5759"
      },
      "outputs": [
        {
          "name": "stdout",
          "output_type": "stream",
          "text": [
            "/bin/bash: line 1: cd: install: No such file or directory\n"
          ]
        }
      ],
      "source": [
        "!cd install"
      ]
    },
    {
      "cell_type": "code",
      "execution_count": null,
      "metadata": {
        "id": "QnR8V1RPrpuA"
      },
      "outputs": [],
      "source": [
        "import pandas as pd\n",
        "import numpy as np\n",
        "from sklearn.model_selection import train_test_split\n",
        "from sklearn.preprocessing import StandardScaler, OneHotEncoder\n",
        "from tensorflow.keras.models import Sequential\n",
        "from tensorflow.keras.layers import Dense, Dropout\n",
        "from tensorflow.keras.utils import to_categorical\n",
        "\n",
        "# Step 1: Load the Dataset\n",
        "# Replace 'your_dataset.csv' with the actual dataset file\n",
        "data = pd.read_csv('your_dataset.csv')\n",
        "\n",
        "# Features and Target\n",
        "features = ['Metallicity', 'Radius', 'Luminosity', 'Mass', 'Temperature', 'Spectral Class']\n",
        "target = 'Star Stage'  # Replace with the actual column name for the target\n",
        "\n",
        "# Step 2: Preprocess Data\n",
        "# One-hot encoding for Spectral Class\n",
        "data_encoded = pd.get_dummies(data, columns=['Spectral Class'])\n",
        "\n",
        "# Splitting features and target\n",
        "X = data_encoded[features]\n",
        "y = data[target]\n",
        "\n",
        "# Standardize numerical features\n",
        "scaler = StandardScaler()\n",
        "X_scaled = scaler.fit_transform(X)\n",
        "\n",
        "# Convert target to categorical\n",
        "y_categorical = to_categorical(y)\n",
        "\n",
        "# Step 3: Split Dataset\n",
        "X_train, X_test, y_train, y_test = train_test_split(X_scaled, y_categorical, test_size=0.2, random_state=42)\n",
        "\n",
        "# Step 4: Build the Neural Network Model\n",
        "model = Sequential([\n",
        "    Dense(128, activation='relu', input_shape=(X_train.shape[1],)),\n",
        "    Dropout(0.2),\n",
        "    Dense(64, activation='relu'),\n",
        "    Dropout(0.2),\n",
        "    Dense(y_categorical.shape[1], activation='softmax')  # Output layer for classification\n",
        "])\n",
        "\n",
        "# Compile the model\n",
        "model.compile(optimizer='adam', loss='categorical_crossentropy', metrics=['accuracy'])\n",
        "\n",
        "# Step 5: Train the Model\n",
        "history = model.fit(X_train, y_train, epochs=50, batch_size=32, validation_data=(X_test, y_test))\n",
        "\n",
        "# Step 6: Evaluate the Model\n",
        "test_loss, test_accuracy = model.evaluate(X_test, y_test)\n",
        "print(f\"Test Accuracy: {test_accuracy:.2f}\")\n",
        "\n",
        "# Step 7: Save the Model\n",
        "model.save('stellar_stage_predictor.h5')\n"
      ]
    },
    {
      "cell_type": "markdown",
      "metadata": {
        "id": "ZaGfWtq1w36S"
      },
      "source": [
        "                                                       GIT SWITCH -C NEW-BRANCH                \n",
        "\n",
        "\n",
        "\n",
        "\n",
        "                                                  \n",
        "                                                                "
      ]
    },
    {
      "cell_type": "code",
      "execution_count": null,
      "metadata": {
        "colab": {
          "base_uri": "https://localhost:8080/"
        },
        "id": "16ovcOqltWPD",
        "outputId": "1cb00677-b1c8-4e96-db76-160b2d27190f"
      },
      "outputs": [
        {
          "name": "stdout",
          "output_type": "stream",
          "text": [
            "Mounted at /content/drive\n"
          ]
        }
      ],
      "source": [
        "from google.colab import drive\n",
        "drive.mount('/content/drive')\n"
      ]
    },
    {
      "cell_type": "code",
      "execution_count": null,
      "metadata": {
        "colab": {
          "base_uri": "https://localhost:8080/"
        },
        "id": "SxZPGarmty11",
        "outputId": "558a6cb8-0dc4-4c36-c787-1051bd66f4d8"
      },
      "outputs": [
        {
          "name": "stdout",
          "output_type": "stream",
          "text": [
            "'Copy of Untitled10.ipynb'   Stellar_.ipynb   Untitled0.ipynb\n"
          ]
        }
      ],
      "source": [
        "!ls '/content/drive/My Drive/Colab Notebooks'"
      ]
    },
    {
      "cell_type": "code",
      "execution_count": null,
      "metadata": {
        "colab": {
          "base_uri": "https://localhost:8080/",
          "height": 726
        },
        "id": "VAarfl8Esg15",
        "outputId": "2691adf5-a083-489e-827e-8a8f6e95a3fc"
      },
      "outputs": [
        {
          "name": "stdout",
          "output_type": "stream",
          "text": [
            "Classification Report:\n",
            "               precision    recall  f1-score   support\n",
            "\n",
            "  Brown Dwarf       1.00      1.00      1.00        10\n",
            "   Hypergiant       1.00      1.00      1.00         7\n",
            "Main Sequence       0.99      1.00      1.00      1000\n",
            "    Red Dwarf       1.00      0.20      0.33        10\n",
            "   Supergiant       1.00      0.92      0.96        12\n",
            "  White Dwarf       1.00      1.00      1.00         9\n",
            "\n",
            "     accuracy                           0.99      1048\n",
            "    macro avg       1.00      0.85      0.88      1048\n",
            " weighted avg       0.99      0.99      0.99      1048\n",
            "\n"
          ]
        },
        {
          "data": {
            "image/png": "[encoded data removed]",
            "text/plain": [
              "<Figure size 640x480 with 1 Axes>"
            ]
          },
          "metadata": {},
          "output_type": "display_data"
        }
      ],
      "source": [
        "#Some params are changed here\n",
        "\n",
        "import pandas as pd\n",
        "import numpy as np\n",
        "from sklearn.model_selection import train_test_split\n",
        "from sklearn.ensemble import RandomForestClassifier\n",
        "from sklearn.preprocessing import StandardScaler\n",
        "from sklearn.metrics import classification_report, confusion_matrix\n",
        "import matplotlib.pyplot as plt\n",
        "\n",
        "\n",
        "# Columns: 'mass', 'temperature', 'luminosity', 'radius', 'metallicity', 'age', 'stage'\n",
        "data = pd.read_csv(\"/content/drive/My Drive/Colab Notebooks/train_stellar_data.csv\")\n",
        "\n",
        "X = data[['Temperature (K)', 'Luminosity (L/Lo)', 'Radius (R/Ro)', 'Absolute Magnitude (Mv)']] #Input features\n",
        "y = data['Star Category'] #Output (Predicted value)\n",
        "\n",
        "# Preprocessing data\n",
        "\n",
        "\n",
        "# Normalization of datasets\n",
        "scaler = StandardScaler()\n",
        "X_scaled = scaler.fit_transform(X)\n",
        "\n",
        "# Splitting into train and test data\n",
        "X_train, X_test, y_train, y_test = train_test_split(X_scaled, y, test_size=0.2, random_state=42)\n",
        "\n",
        "#Training\n",
        "model = RandomForestClassifier(\n",
        "    n_estimators=200,\n",
        "    max_depth=10,\n",
        "    min_samples_split=5,\n",
        "    min_samples_leaf=2,\n",
        "    random_state=42\n",
        ")\n",
        "model.fit(X_train, y_train)\n",
        "\n",
        "# Predictions\n",
        "y_pred = model.predict(X_test)\n",
        "\n",
        "# Evaluation\n",
        "print(\"Classification Report:\")\n",
        "print(classification_report(y_test, y_pred))\n",
        "\n",
        "# Feature Importance\n",
        "importances = model.feature_importances_\n",
        "plt.barh(X.columns, importances, color='skyblue')\n",
        "plt.xlabel(\"Feature Importance\")\n",
        "plt.title(\"Random Forest Feature Importance\")\n",
        "plt.show()\n"
      ]
    },
    {
      "cell_type": "code",
      "execution_count": null,
      "metadata": {
        "colab": {
          "base_uri": "https://localhost:8080/"
        },
        "id": "Xs_Q3ZvRxoAG",
        "outputId": "448d9236-9f41-4af6-95c7-52000c2c7be8"
      },
      "outputs": [
        {
          "name": "stderr",
          "output_type": "stream",
          "text": [
            "/usr/local/lib/python3.10/dist-packages/keras/src/layers/core/dense.py:87: UserWarning: Do not pass an `input_shape`/`input_dim` argument to a layer. When using Sequential models, prefer using an `Input(shape)` object as the first layer in the model instead.\n",
            "  super().__init__(activity_regularizer=activity_regularizer, **kwargs)\n"
          ]
        },
        {
          "name": "stdout",
          "output_type": "stream",
          "text": [
            "Epoch 1/50\n",
            "\u001b[1m131/131\u001b[0m \u001b[32m━━━━━━━━━━━━━━━━━━━━\u001b[0m\u001b[37m\u001b[0m \u001b[1m2s\u001b[0m 5ms/step - accuracy: 0.7769 - loss: 0.7758 - val_accuracy: 0.9609 - val_loss: 0.1837\n",
            "Epoch 2/50\n",
            "\u001b[1m131/131\u001b[0m \u001b[32m━━━━━━━━━━━━━━━━━━━━\u001b[0m\u001b[37m\u001b[0m \u001b[1m0s\u001b[0m 3ms/step - accuracy: 0.9721 - loss: 0.1261 - val_accuracy: 0.9609 - val_loss: 0.1423\n",
            "Epoch 3/50\n",
            "\u001b[1m131/131\u001b[0m \u001b[32m━━━━━━━━━━━━━━━━━━━━\u001b[0m\u001b[37m\u001b[0m \u001b[1m1s\u001b[0m 4ms/step - accuracy: 0.9721 - loss: 0.1039 - val_accuracy: 0.9666 - val_loss: 0.1231\n",
            "Epoch 4/50\n",
            "\u001b[1m131/131\u001b[0m \u001b[32m━━━━━━━━━━━━━━━━━━━━\u001b[0m\u001b[37m\u001b[0m \u001b[1m1s\u001b[0m 4ms/step - accuracy: 0.9794 - loss: 0.0886 - val_accuracy: 0.9704 - val_loss: 0.0998\n",
            "Epoch 5/50\n",
            "\u001b[1m131/131\u001b[0m \u001b[32m━━━━━━━━━━━━━━━━━━━━\u001b[0m\u001b[37m\u001b[0m \u001b[1m1s\u001b[0m 4ms/step - accuracy: 0.9800 - loss: 0.0748 - val_accuracy: 0.9781 - val_loss: 0.0873\n",
            "Epoch 6/50\n",
            "\u001b[1m131/131\u001b[0m \u001b[32m━━━━━━━━━━━━━━━━━━━━\u001b[0m\u001b[37m\u001b[0m \u001b[1m0s\u001b[0m 3ms/step - accuracy: 0.9858 - loss: 0.0634 - val_accuracy: 0.9771 - val_loss: 0.0781\n",
            "Epoch 7/50\n",
            "\u001b[1m131/131\u001b[0m \u001b[32m━━━━━━━━━━━━━━━━━━━━\u001b[0m\u001b[37m\u001b[0m \u001b[1m1s\u001b[0m 3ms/step - accuracy: 0.9848 - loss: 0.0645 - val_accuracy: 0.9771 - val_loss: 0.0755\n",
            "Epoch 8/50\n",
            "\u001b[1m131/131\u001b[0m \u001b[32m━━━━━━━━━━━━━━━━━━━━\u001b[0m\u001b[37m\u001b[0m \u001b[1m0s\u001b[0m 3ms/step - accuracy: 0.9858 - loss: 0.0551 - val_accuracy: 0.9771 - val_loss: 0.0741\n",
            "Epoch 9/50\n",
            "\u001b[1m131/131\u001b[0m \u001b[32m━━━━━━━━━━━━━━━━━━━━\u001b[0m\u001b[37m\u001b[0m \u001b[1m0s\u001b[0m 3ms/step - accuracy: 0.9843 - loss: 0.0573 - val_accuracy: 0.9781 - val_loss: 0.0694\n",
            "Epoch 10/50\n",
            "\u001b[1m131/131\u001b[0m \u001b[32m━━━━━━━━━━━━━━━━━━━━\u001b[0m\u001b[37m\u001b[0m \u001b[1m1s\u001b[0m 3ms/step - accuracy: 0.9878 - loss: 0.0473 - val_accuracy: 0.9819 - val_loss: 0.0608\n",
            "Epoch 11/50\n",
            "\u001b[1m131/131\u001b[0m \u001b[32m━━━━━━━━━━━━━━━━━━━━\u001b[0m\u001b[37m\u001b[0m \u001b[1m1s\u001b[0m 3ms/step - accuracy: 0.9868 - loss: 0.0524 - val_accuracy: 0.9819 - val_loss: 0.0587\n",
            "Epoch 12/50\n",
            "\u001b[1m131/131\u001b[0m \u001b[32m━━━━━━━━━━━━━━━━━━━━\u001b[0m\u001b[37m\u001b[0m \u001b[1m1s\u001b[0m 4ms/step - accuracy: 0.9903 - loss: 0.0403 - val_accuracy: 0.9819 - val_loss: 0.0572\n",
            "Epoch 13/50\n",
            "\u001b[1m131/131\u001b[0m \u001b[32m━━━━━━━━━━━━━━━━━━━━\u001b[0m\u001b[37m\u001b[0m \u001b[1m1s\u001b[0m 6ms/step - accuracy: 0.9848 - loss: 0.0534 - val_accuracy: 0.9857 - val_loss: 0.0577\n",
            "Epoch 14/50\n",
            "\u001b[1m131/131\u001b[0m \u001b[32m━━━━━━━━━━━━━━━━━━━━\u001b[0m\u001b[37m\u001b[0m \u001b[1m1s\u001b[0m 6ms/step - accuracy: 0.9886 - loss: 0.0442 - val_accuracy: 0.9838 - val_loss: 0.0559\n",
            "Epoch 15/50\n",
            "\u001b[1m131/131\u001b[0m \u001b[32m━━━━━━━━━━━━━━━━━━━━\u001b[0m\u001b[37m\u001b[0m \u001b[1m1s\u001b[0m 6ms/step - accuracy: 0.9897 - loss: 0.0412 - val_accuracy: 0.9809 - val_loss: 0.0590\n",
            "Epoch 16/50\n",
            "\u001b[1m131/131\u001b[0m \u001b[32m━━━━━━━━━━━━━━━━━━━━\u001b[0m\u001b[37m\u001b[0m \u001b[1m1s\u001b[0m 6ms/step - accuracy: 0.9867 - loss: 0.0483 - val_accuracy: 0.9857 - val_loss: 0.0624\n",
            "Epoch 17/50\n",
            "\u001b[1m131/131\u001b[0m \u001b[32m━━━━━━━━━━━━━━━━━━━━\u001b[0m\u001b[37m\u001b[0m \u001b[1m1s\u001b[0m 3ms/step - accuracy: 0.9892 - loss: 0.0452 - val_accuracy: 0.9876 - val_loss: 0.0502\n",
            "Epoch 18/50\n",
            "\u001b[1m131/131\u001b[0m \u001b[32m━━━━━━━━━━━━━━━━━━━━\u001b[0m\u001b[37m\u001b[0m \u001b[1m1s\u001b[0m 3ms/step - accuracy: 0.9876 - loss: 0.0422 - val_accuracy: 0.9876 - val_loss: 0.0475\n",
            "Epoch 19/50\n",
            "\u001b[1m131/131\u001b[0m \u001b[32m━━━━━━━━━━━━━━━━━━━━\u001b[0m\u001b[37m\u001b[0m \u001b[1m1s\u001b[0m 4ms/step - accuracy: 0.9873 - loss: 0.0447 - val_accuracy: 0.9866 - val_loss: 0.0556\n",
            "Epoch 20/50\n",
            "\u001b[1m131/131\u001b[0m \u001b[32m━━━━━━━━━━━━━━━━━━━━\u001b[0m\u001b[37m\u001b[0m \u001b[1m1s\u001b[0m 3ms/step - accuracy: 0.9877 - loss: 0.0465 - val_accuracy: 0.9866 - val_loss: 0.0549\n",
            "Epoch 21/50\n",
            "\u001b[1m131/131\u001b[0m \u001b[32m━━━━━━━━━━━━━━━━━━━━\u001b[0m\u001b[37m\u001b[0m \u001b[1m1s\u001b[0m 3ms/step - accuracy: 0.9882 - loss: 0.0427 - val_accuracy: 0.9809 - val_loss: 0.0522\n",
            "Epoch 22/50\n",
            "\u001b[1m131/131\u001b[0m \u001b[32m━━━━━━━━━━━━━━━━━━━━\u001b[0m\u001b[37m\u001b[0m \u001b[1m1s\u001b[0m 3ms/step - accuracy: 0.9899 - loss: 0.0381 - val_accuracy: 0.9866 - val_loss: 0.0480\n",
            "Epoch 23/50\n",
            "\u001b[1m131/131\u001b[0m \u001b[32m━━━━━━━━━━━━━━━━━━━━\u001b[0m\u001b[37m\u001b[0m \u001b[1m1s\u001b[0m 3ms/step - accuracy: 0.9891 - loss: 0.0386 - val_accuracy: 0.9866 - val_loss: 0.0499\n",
            "Epoch 24/50\n",
            "\u001b[1m131/131\u001b[0m \u001b[32m━━━━━━━━━━━━━━━━━━━━\u001b[0m\u001b[37m\u001b[0m \u001b[1m1s\u001b[0m 3ms/step - accuracy: 0.9914 - loss: 0.0333 - val_accuracy: 0.9885 - val_loss: 0.0457\n",
            "Epoch 25/50\n",
            "\u001b[1m131/131\u001b[0m \u001b[32m━━━━━━━━━━━━━━━━━━━━\u001b[0m\u001b[37m\u001b[0m \u001b[1m1s\u001b[0m 3ms/step - accuracy: 0.9903 - loss: 0.0368 - val_accuracy: 0.9876 - val_loss: 0.0438\n",
            "Epoch 26/50\n",
            "\u001b[1m131/131\u001b[0m \u001b[32m━━━━━━━━━━━━━━━━━━━━\u001b[0m\u001b[37m\u001b[0m \u001b[1m1s\u001b[0m 3ms/step - accuracy: 0.9882 - loss: 0.0406 - val_accuracy: 0.9866 - val_loss: 0.0462\n",
            "Epoch 27/50\n",
            "\u001b[1m131/131\u001b[0m \u001b[32m━━━━━━━━━━━━━━━━━━━━\u001b[0m\u001b[37m\u001b[0m \u001b[1m0s\u001b[0m 3ms/step - accuracy: 0.9892 - loss: 0.0421 - val_accuracy: 0.9885 - val_loss: 0.0466\n",
            "Epoch 28/50\n",
            "\u001b[1m131/131\u001b[0m \u001b[32m━━━━━━━━━━━━━━━━━━━━\u001b[0m\u001b[37m\u001b[0m \u001b[1m0s\u001b[0m 3ms/step - accuracy: 0.9911 - loss: 0.0348 - val_accuracy: 0.9819 - val_loss: 0.0515\n",
            "Epoch 29/50\n",
            "\u001b[1m131/131\u001b[0m \u001b[32m━━━━━━━━━━━━━━━━━━━━\u001b[0m\u001b[37m\u001b[0m \u001b[1m1s\u001b[0m 3ms/step - accuracy: 0.9900 - loss: 0.0371 - val_accuracy: 0.9885 - val_loss: 0.0421\n",
            "Epoch 30/50\n",
            "\u001b[1m131/131\u001b[0m \u001b[32m━━━━━━━━━━━━━━━━━━━━\u001b[0m\u001b[37m\u001b[0m \u001b[1m0s\u001b[0m 3ms/step - accuracy: 0.9899 - loss: 0.0396 - val_accuracy: 0.9876 - val_loss: 0.0461\n",
            "Epoch 31/50\n",
            "\u001b[1m131/131\u001b[0m \u001b[32m━━━━━━━━━━━━━━━━━━━━\u001b[0m\u001b[37m\u001b[0m \u001b[1m0s\u001b[0m 3ms/step - accuracy: 0.9911 - loss: 0.0358 - val_accuracy: 0.9866 - val_loss: 0.0498\n",
            "Epoch 32/50\n",
            "\u001b[1m131/131\u001b[0m \u001b[32m━━━━━━━━━━━━━━━━━━━━\u001b[0m\u001b[37m\u001b[0m \u001b[1m1s\u001b[0m 3ms/step - accuracy: 0.9906 - loss: 0.0350 - val_accuracy: 0.9885 - val_loss: 0.0458\n",
            "Epoch 33/50\n",
            "\u001b[1m131/131\u001b[0m \u001b[32m━━━━━━━━━━━━━━━━━━━━\u001b[0m\u001b[37m\u001b[0m \u001b[1m1s\u001b[0m 3ms/step - accuracy: 0.9908 - loss: 0.0370 - val_accuracy: 0.9885 - val_loss: 0.0448\n",
            "Epoch 34/50\n",
            "\u001b[1m131/131\u001b[0m \u001b[32m━━━━━━━━━━━━━━━━━━━━\u001b[0m\u001b[37m\u001b[0m \u001b[1m1s\u001b[0m 5ms/step - accuracy: 0.9889 - loss: 0.0398 - val_accuracy: 0.9885 - val_loss: 0.0468\n",
            "Epoch 35/50\n",
            "\u001b[1m131/131\u001b[0m \u001b[32m━━━━━━━━━━━━━━━━━━━━\u001b[0m\u001b[37m\u001b[0m \u001b[1m1s\u001b[0m 5ms/step - accuracy: 0.9886 - loss: 0.0458 - val_accuracy: 0.9876 - val_loss: 0.0447\n",
            "Epoch 36/50\n",
            "\u001b[1m131/131\u001b[0m \u001b[32m━━━━━━━━━━━━━━━━━━━━\u001b[0m\u001b[37m\u001b[0m \u001b[1m1s\u001b[0m 6ms/step - accuracy: 0.9923 - loss: 0.0354 - val_accuracy: 0.9819 - val_loss: 0.0500\n",
            "Epoch 37/50\n",
            "\u001b[1m131/131\u001b[0m \u001b[32m━━━━━━━━━━━━━━━━━━━━\u001b[0m\u001b[37m\u001b[0m \u001b[1m2s\u001b[0m 14ms/step - accuracy: 0.9887 - loss: 0.0398 - val_accuracy: 0.9876 - val_loss: 0.0456\n",
            "Epoch 38/50\n",
            "\u001b[1m131/131\u001b[0m \u001b[32m━━━━━━━━━━━━━━━━━━━━\u001b[0m\u001b[37m\u001b[0m \u001b[1m1s\u001b[0m 3ms/step - accuracy: 0.9891 - loss: 0.0382 - val_accuracy: 0.9876 - val_loss: 0.0478\n",
            "Epoch 39/50\n",
            "\u001b[1m131/131\u001b[0m \u001b[32m━━━━━━━━━━━━━━━━━━━━\u001b[0m\u001b[37m\u001b[0m \u001b[1m0s\u001b[0m 3ms/step - accuracy: 0.9882 - loss: 0.0418 - val_accuracy: 0.9885 - val_loss: 0.0443\n",
            "Epoch 40/50\n",
            "\u001b[1m131/131\u001b[0m \u001b[32m━━━━━━━━━━━━━━━━━━━━\u001b[0m\u001b[37m\u001b[0m \u001b[1m1s\u001b[0m 3ms/step - accuracy: 0.9902 - loss: 0.0369 - val_accuracy: 0.9885 - val_loss: 0.0457\n",
            "Epoch 41/50\n",
            "\u001b[1m131/131\u001b[0m \u001b[32m━━━━━━━━━━━━━━━━━━━━\u001b[0m\u001b[37m\u001b[0m \u001b[1m0s\u001b[0m 3ms/step - accuracy: 0.9915 - loss: 0.0345 - val_accuracy: 0.9885 - val_loss: 0.0417\n",
            "Epoch 42/50\n",
            "\u001b[1m131/131\u001b[0m \u001b[32m━━━━━━━━━━━━━━━━━━━━\u001b[0m\u001b[37m\u001b[0m \u001b[1m0s\u001b[0m 3ms/step - accuracy: 0.9932 - loss: 0.0268 - val_accuracy: 0.9885 - val_loss: 0.0416\n",
            "Epoch 43/50\n",
            "\u001b[1m131/131\u001b[0m \u001b[32m━━━━━━━━━━━━━━━━━━━━\u001b[0m\u001b[37m\u001b[0m \u001b[1m1s\u001b[0m 3ms/step - accuracy: 0.9897 - loss: 0.0387 - val_accuracy: 0.9885 - val_loss: 0.0415\n",
            "Epoch 44/50\n",
            "\u001b[1m131/131\u001b[0m \u001b[32m━━━━━━━━━━━━━━━━━━━━\u001b[0m\u001b[37m\u001b[0m \u001b[1m0s\u001b[0m 3ms/step - accuracy: 0.9864 - loss: 0.0439 - val_accuracy: 0.9885 - val_loss: 0.0443\n",
            "Epoch 45/50\n",
            "\u001b[1m131/131\u001b[0m \u001b[32m━━━━━━━━━━━━━━━━━━━━\u001b[0m\u001b[37m\u001b[0m \u001b[1m1s\u001b[0m 3ms/step - accuracy: 0.9907 - loss: 0.0356 - val_accuracy: 0.9885 - val_loss: 0.0413\n",
            "Epoch 46/50\n",
            "\u001b[1m131/131\u001b[0m \u001b[32m━━━━━━━━━━━━━━━━━━━━\u001b[0m\u001b[37m\u001b[0m \u001b[1m0s\u001b[0m 3ms/step - accuracy: 0.9876 - loss: 0.0469 - val_accuracy: 0.9885 - val_loss: 0.0423\n",
            "Epoch 47/50\n",
            "\u001b[1m131/131\u001b[0m \u001b[32m━━━━━━━━━━━━━━━━━━━━\u001b[0m\u001b[37m\u001b[0m \u001b[1m0s\u001b[0m 3ms/step - accuracy: 0.9908 - loss: 0.0338 - val_accuracy: 0.9885 - val_loss: 0.0424\n",
            "Epoch 48/50\n",
            "\u001b[1m131/131\u001b[0m \u001b[32m━━━━━━━━━━━━━━━━━━━━\u001b[0m\u001b[37m\u001b[0m \u001b[1m1s\u001b[0m 4ms/step - accuracy: 0.9938 - loss: 0.0270 - val_accuracy: 0.9885 - val_loss: 0.0448\n",
            "Epoch 49/50\n",
            "\u001b[1m131/131\u001b[0m \u001b[32m━━━━━━━━━━━━━━━━━━━━\u001b[0m\u001b[37m\u001b[0m \u001b[1m1s\u001b[0m 3ms/step - accuracy: 0.9905 - loss: 0.0369 - val_accuracy: 0.9876 - val_loss: 0.0461\n",
            "Epoch 50/50\n",
            "\u001b[1m131/131\u001b[0m \u001b[32m━━━━━━━━━━━━━━━━━━━━\u001b[0m\u001b[37m\u001b[0m \u001b[1m1s\u001b[0m 3ms/step - accuracy: 0.9883 - loss: 0.0447 - val_accuracy: 0.9885 - val_loss: 0.0446\n",
            "\u001b[1m33/33\u001b[0m \u001b[32m━━━━━━━━━━━━━━━━━━━━\u001b[0m\u001b[37m\u001b[0m \u001b[1m0s\u001b[0m 1ms/step - accuracy: 0.9904 - loss: 0.0398 \n"
          ]
        },
        {
          "name": "stderr",
          "output_type": "stream",
          "text": [
            "WARNING:absl:You are saving your model as an HDF5 file via `model.save()` or `keras.saving.save_model(model)`. This file format is considered legacy. We recommend using instead the native Keras format, e.g. `model.save('my_model.keras')` or `keras.saving.save_model(model, 'my_model.keras')`. \n"
          ]
        },
        {
          "name": "stdout",
          "output_type": "stream",
          "text": [
            "Test Accuracy: 0.99\n"
          ]
        }
      ],
      "source": [
        "import pandas as pd\n",
        "import numpy as np\n",
        "from sklearn.model_selection import train_test_split\n",
        "from sklearn.preprocessing import StandardScaler, OneHotEncoder\n",
        "from tensorflow.keras.models import Sequential\n",
        "from tensorflow.keras.layers import Dense, Dropout\n",
        "from tensorflow.keras.utils import to_categorical\n",
        "\n",
        "# Step 1: Load the Dataset\n",
        "# Replace 'your_dataset.csv' with the actual dataset file\n",
        "data = pd.read_csv('/content/drive/My Drive/Colab Notebooks/train_stellar_data_DNN.csv')\n",
        "\n",
        "# Features and Target\n",
        "features = ['Temperature (K)', 'Luminosity (L/Lo)', 'Radius (R/Ro)', 'Absolute Magnitude (Mv)','Spectral Class']\n",
        "target = 'Star Category'  # Replace with the actual column name for the target\n",
        "\n",
        "# Step 2: Preprocess Data\n",
        "star_category_mapping = {\n",
        "    'Brown Dwarf': 0,\n",
        "    'Red Dwarf': 1,\n",
        "    'White Dwarf': 2,\n",
        "    'Main Sequence': 3,\n",
        "    'Supergiant': 4,\n",
        "    'Hypergiant': 5\n",
        "}\n",
        "data['Star Category'] = data['Star Category'].map(star_category_mapping)\n",
        "# One-hot encoding for Spectral Class\n",
        "data_encoded = pd.get_dummies(data, columns=['Spectral Class'])\n",
        "\n",
        "new_features_in_data_encoded=['Temperature (K)', 'Luminosity (L/Lo)', 'Radius (R/Ro)',\n",
        "       'Absolute Magnitude (Mv)', 'Spectral Class_A',\n",
        "       'Spectral Class_B', 'Spectral Class_F', 'Spectral Class_G',\n",
        "       'Spectral Class_K', 'Spectral Class_M', 'Spectral Class_O']\n",
        "\n",
        "# Splitting features and target\n",
        "X = data_encoded[new_features_in_data_encoded]\n",
        "y = data[target]\n",
        "\n",
        "\n",
        "# unique_count = data['Star Category'].unique()\n",
        "# print(f\"Number of unique items: {unique_count}\")\n",
        "# Standardize numerical features\n",
        "scaler = StandardScaler()\n",
        "X_scaled = scaler.fit_transform(X)\n",
        "\n",
        "# Convert target to categorical\n",
        "y_categorical = to_categorical(y)\n",
        "\n",
        "# Step 3: Split Dataset\n",
        "X_train, X_test, y_train, y_test = train_test_split(X_scaled, y_categorical, test_size=0.2, random_state=42)\n",
        "\n",
        "# Step 4: Build the Neural Network Model\n",
        "model = Sequential([\n",
        "    Dense(128, activation='relu', input_shape=(X_train.shape[1],)), #relu means rectified linear unit\n",
        "    Dropout(0.2),\n",
        "    Dense(64, activation='relu'),\n",
        "    Dropout(0.2),\n",
        "    Dense(y_categorical.shape[1], activation='softmax')  # Output layer for classification\n",
        "])\n",
        "\n",
        "# Compile the model\n",
        "model.compile(optimizer='adam', loss='categorical_crossentropy', metrics=['accuracy'])\n",
        "\n",
        "# Step 5: Train the Model\n",
        "history = model.fit(X_train, y_train, epochs=50, batch_size=32, validation_data=(X_test, y_test))\n",
        "\n",
        "# Step 6: Evaluate the Model\n",
        "test_loss, test_accuracy = model.evaluate(X_test, y_test)\n",
        "print(f\"Test Accuracy: {test_accuracy:.2f}\")\n",
        "\n",
        "# Step 7: Save the Model\n",
        "model.save('stellar_stage_predictor.h5')"
      ]
    },
    {
      "cell_type": "code",
      "execution_count": null,
      "metadata": {
        "id": "Kpm_SelG4ovx"
      },
      "outputs": [],
      "source": [
        "drive.flush_and_unmount()\n"
      ]
    }
  ],
  "metadata": {
    "colab": {
      "provenance": []
    },
    "kernelspec": {
      "display_name": "Python 3",
      "name": "python3"
    },
    "language_info": {
      "name": "python"
    }
  },
  "nbformat": 4,
  "nbformat_minor": 0
}